{
 "cells": [
  {
   "cell_type": "markdown",
   "metadata": {
    "id": "pQRi_3vMPsbi"
   },
   "source": [
    "Set which dataset we want to analyze. The code has been built such that toggling the flag to the dataset 1 (alphabet) or 2 (greek letters) will work."
   ]
  },
  {
   "cell_type": "code",
   "execution_count": 33,
   "metadata": {
    "id": "rpfWjnJAPsbj"
   },
   "outputs": [],
   "source": [
    "dataset = \"1\""
   ]
  },
  {
   "cell_type": "markdown",
   "metadata": {
    "id": "hNKVuJlvoaBo"
   },
   "source": [
    "# Part 3: Function that outputs the results of the models to csv files"
   ]
  },
  {
   "cell_type": "code",
   "execution_count": 34,
   "metadata": {
    "id": "KmUFt95noaBp"
   },
   "outputs": [],
   "source": [
    "import csv\n",
    "import pandas as pd\n",
    "\n",
    "def analyzeModelAndOutput(actual_values, predicted_values, newline=' '):\n",
    "    with open(model_name + \"-DS\" + dataset + \".csv\", mode='w') as output_file:\n",
    "        writer = csv.writer(output_file)\n",
    "        for idx, val in enumerate(predicted_values)\n",
    "            writer.writerow([str(idx),str(val)])\n",
    "        # get confusion matrix using predicted results and actual results (labels)\n",
    "        confusionMatrix = confusion_matrix(actual_values, predicted_values)\n",
    "        writer.writerow(['                                                    '])\n",
    "        writer.writerow(['====================================================='])\n",
    "        writer.writerow(['                 Confusion Matrix:'])\n",
    "        writer.writerow(['====================================================='])\n",
    "        \n",
    "    df = pd.DataFrame(confusionMatrix) \n",
    "    df.to_csv(model_name + \"-DS\" + dataset + \".csv\", mode='a', header=False)\n",
    "    \n",
    "    with open(model_name + \"-DS\" + dataset + \".csv\", mode='a') as output_file:\n",
    "        writer = csv.writer(output_file)\n",
    "        # get precision recall fscore support for each class using the predicted results and actual results (labels)\n",
    "        (precision, recall, fscore, _) = precision_recall_fscore_support(actual_values, predicted_values)\n",
    "        writer.writerow(['===================================='])\n",
    "        writer.writerow(['','Precision:'])\n",
    "    \n",
    "    df = pd.DataFrame(precision) \n",
    "    df.to_csv(model_name + \"-DS\" + dataset + \".csv\", mode='a', header=False)\n",
    "    \n",
    "    with open(model_name + \"-DS\" + dataset + \".csv\", mode='a') as output_file:\n",
    "        writer = csv.writer(output_file)\n",
    "        writer.writerow(['------------------------------------'])\n",
    "        writer.writerow(['','Recall:'])\n",
    "        \n",
    "    df = pd.DataFrame(recall) \n",
    "    df.to_csv(model_name + \"-DS\" + dataset + \".csv\", mode='a', header=False)\n",
    "    \n",
    "    with open(model_name + \"-DS\" + dataset + \".csv\", mode='a') as output_file:\n",
    "        writer = csv.writer(output_file)\n",
    "        writer.writerow(['------------------------------------'])\n",
    "        writer.writerow(['','F-Score:'])\n",
    "        \n",
    "    df = pd.DataFrame(fscore) \n",
    "    df.to_csv(model_name + \"-DS\" + dataset + \".csv\", mode='a', header=False)\n",
    "    \n",
    "    with open(model_name + \"-DS\" + dataset + \".csv\", mode='a') as output_file:\n",
    "        writer = csv.writer(output_file)\n",
    "        writer.writerow(['===================================='])\n",
    "        # get accuracy, macro-average f1 and weighted-average f1 of the model using the predicted results and actual results (labels)\n",
    "        (_, _, macroAverageFScore, _) = precision_recall_fscore_support(actual_values, predicted_values, average='macro')\n",
    "        (_, _, weightedAverageFScore, _) = precision_recall_fscore_support(actual_values, predicted_values, average='weighted')\n",
    "        accuracyScore = accuracy_score(actual_values, predicted_values)\n",
    "        writer.writerow(['','Macro Average F-Score:'])\n",
    "        writer.writerow(['',macroAverageFScore])\n",
    "        writer.writerow(['','Weighted Average F-Score:'])\n",
    "        writer.writerow(['',weightedAverageFScore])\n",
    "        writer.writerow(['','Accuracy Score:'])\n",
    "        writer.writerow(['',accuracyScore])\n",
    "        \n",
    "\n",
    "    "
   ]
  },
  {
   "cell_type": "markdown",
   "metadata": {
    "id": "fWVOCzg6Psbm"
   },
   "source": [
    "# Part 1: Plot the distribution of the number of the instances in each class."
   ]
  },
  {
   "cell_type": "markdown",
   "metadata": {
    "id": "E_R5XSpQPsbn"
   },
   "source": [
    "Import required packages."
   ]
  },
  {
   "cell_type": "code",
   "execution_count": 35,
   "metadata": {
    "id": "9FGec6wkPsbn"
   },
   "outputs": [],
   "source": [
    "import csv\n",
    "import numpy as np\n",
    "import matplotlib.pyplot as plt\n",
    "from sklearn.model_selection import PredefinedSplit"
   ]
  },
  {
   "cell_type": "markdown",
   "metadata": {
    "id": "yBxRz1ShPsbq"
   },
   "source": [
    "Import information about the dataset."
   ]
  },
  {
   "cell_type": "code",
   "execution_count": 36,
   "metadata": {
    "colab": {
     "base_uri": "https://localhost:8080/",
     "height": 85
    },
    "id": "fFtmq33NPsbr",
    "outputId": "529afbdb-76be-4ed0-cc36-89521d389d5e"
   },
   "outputs": [
    {
     "name": "stdout",
     "output_type": "stream",
     "text": [
      "[( 0, 'A') ( 1, 'B') ( 2, 'C') ( 3, 'D') ( 4, 'E') ( 5, 'F') ( 6, 'G')\n",
      " ( 7, 'H') ( 8, 'I') ( 9, 'J') (10, 'K') (11, 'L') (12, 'M') (13, 'N')\n",
      " (14, 'O') (15, 'P') (16, 'Q') (17, 'R') (18, 'S') (19, 'T') (20, 'U')\n",
      " (21, 'V') (22, 'W') (23, 'X') (24, 'Y') (25, 'Z')]\n"
     ]
    }
   ],
   "source": [
    "f = open(\"./Assig1-Dataset/info_\" + dataset + \".csv\")\n",
    "f.readline() # Skip header line\n",
    "infoData = np.loadtxt(f, dtype={'names': ('index', 'label'), 'formats': ('i4', 'U1')  }, delimiter = ',')\n",
    "\n",
    "print(infoData)"
   ]
  },
  {
   "cell_type": "markdown",
   "metadata": {
    "id": "NvPm3a9cPsbu"
   },
   "source": [
    "Declare function to import and return data. Importdataset. \n",
    "\n",
    "The format of the dataset is a table with 1025 columns (1024 representing features, ie black & white image pixels, and the last column represents the label of the encoded image which corresponds to the above label-index pairing)."
   ]
  },
  {
   "cell_type": "code",
   "execution_count": 37,
   "metadata": {
    "id": "Es53onblPsbu"
   },
   "outputs": [],
   "source": [
    "def importData(path):\n",
    "    f = open(path)\n",
    "    f.readline() #skip header line\n",
    "    data = np.loadtxt(f, delimiter = ',', dtype=\"i4\")\n",
    "    print(data)\n",
    "    return data\n",
    "\n",
    "def importDataForGraphs(filePathData, filePathLetters):\n",
    "    with open(filePathData, newline='') as file:\n",
    "        reader = csv.reader(file)\n",
    "        listOfInstances = [row[-1] for row in reader]\n",
    "        dictOfLetters = switchTheIndexesIntoSymbols(filePathLetters)\n",
    "        dictOfLetterAndOccurances = {dictOfLetters[i]:listOfInstances.count(i) for i in listOfInstances}\n",
    "        return dictOfLetterAndOccurances\n",
    "\n",
    "def switchTheIndexesIntoSymbols(filePath):\n",
    "    with open(filePath, newline='') as file:\n",
    "        reader = csv.reader(file)\n",
    "        dictOfLetters = {}\n",
    "        for row in reader:\n",
    "            dictOfLetters[row[0]] = row[1]\n",
    "        return dictOfLetters"
   ]
  },
  {
   "cell_type": "markdown",
   "metadata": {
    "id": "CZPh483BPsbx"
   },
   "source": [
    "Declare function to plot the histogram of data by plotting labels (last column of data)."
   ]
  },
  {
   "cell_type": "code",
   "execution_count": 38,
   "metadata": {
    "id": "B_tQ6T-9Psby"
   },
   "outputs": [],
   "source": [
    "def plot(dictOfLetterAndOccurances):\n",
    "    yAxeList = dictOfLetterAndOccurances.values()\n",
    "    xAxeList = dictOfLetterAndOccurances.keys()\n",
    "\n",
    "    plt.bar(xAxeList, yAxeList)\n",
    "    # x-axis label\n",
    "    plt.xlabel('Classes')\n",
    "\n",
    "    # y-axis label\n",
    "    plt.ylabel('No. of instances')\n",
    "\n",
    "    # Plot title\n",
    "    plt.title('Number of instances in each class')\n",
    "\n",
    "    # Show the plot\n",
    "    plt.show()"
   ]
  },
  {
   "cell_type": "markdown",
   "metadata": {
    "id": "hITmcjWRPsb0"
   },
   "source": [
    "Import training, validation and testing data for ploting the historgrams."
   ]
  },
  {
   "cell_type": "code",
   "execution_count": 39,
   "metadata": {
    "colab": {
     "base_uri": "https://localhost:8080/",
     "height": 384
    },
    "id": "bE3HyHJ2Psb1",
    "outputId": "a5dc5468-505b-4495-8e30-e16f32a70cf5"
   },
   "outputs": [],
   "source": [
    "trainingData = importDataForGraphs(\"./Assig1-Dataset/train_\" + dataset + \".csv\", \"./Assig1-Dataset/info_\" + dataset + \".csv\")\n",
    "validationData = importDataForGraphs(\"./Assig1-Dataset/val_\" + dataset + \".csv\", \"./Assig1-Dataset/info_\" + dataset + \".csv\")\n",
    "testingData = importDataForGraphs(\"./Assig1-Dataset/test_with_label_\" + dataset + \".csv\", \"./Assig1-Dataset/info_\" + dataset + \".csv\")"
   ]
  },
  {
   "cell_type": "markdown",
   "metadata": {
    "id": "OIWUpw3pPsb4"
   },
   "source": [
    " Plot histogram of training data."
   ]
  },
  {
   "cell_type": "code",
   "execution_count": 40,
   "metadata": {},
   "outputs": [
    {
     "data": {
      "image/png": "[encoded data removed]",
      "text/plain": [
       "<Figure size 432x288 with 1 Axes>"
      ]
     },
     "metadata": {
      "needs_background": "light"
     },
     "output_type": "display_data"
    }
   ],
   "source": [
    "plot(trainingData)"
   ]
  },
  {
   "cell_type": "markdown",
   "metadata": {
    "id": "OIWUpw3pPsb4"
   },
   "source": [
    " Plot histogram of validation data."
   ]
  },
  {
   "cell_type": "code",
   "execution_count": 41,
   "metadata": {
    "colab": {
     "base_uri": "https://localhost:8080/",
     "height": 384
    },
    "id": "DBTfB3owPsb4",
    "outputId": "762dffc7-e101-41ec-b2af-6d9883b334db"
   },
   "outputs": [
    {
     "data": {
      "image/png": "[encoded data removed]",
      "text/plain": [
       "<Figure size 432x288 with 1 Axes>"
      ]
     },
     "metadata": {
      "needs_background": "light"
     },
     "output_type": "display_data"
    }
   ],
   "source": [
    "plot(validationData)"
   ]
  },
  {
   "cell_type": "markdown",
   "metadata": {
    "id": "n4yhKdOAPsb7"
   },
   "source": [
    "Plot histogram of testing data."
   ]
  },
  {
   "cell_type": "code",
   "execution_count": 42,
   "metadata": {
    "colab": {
     "base_uri": "https://localhost:8080/",
     "height": 384
    },
    "id": "z3dW0ErjPsb7",
    "outputId": "dcd3a86a-4312-45dd-ca11-1ab8bfdf18a8"
   },
   "outputs": [
    {
     "data": {
      "image/png": "[encoded data removed]",
      "text/plain": [
       "<Figure size 432x288 with 1 Axes>"
      ]
     },
     "metadata": {
      "needs_background": "light"
     },
     "output_type": "display_data"
    }
   ],
   "source": [
    "plot(testingData)"
   ]
  },
  {
   "cell_type": "markdown",
   "metadata": {
    "id": "STLzCK2cPsb9"
   },
   "source": [
    "***"
   ]
  },
  {
   "cell_type": "markdown",
   "metadata": {
    "id": "cQt1PHyHPsb-"
   },
   "source": [
    "# Part 2: Run 6 ML models"
   ]
  },
  {
   "cell_type": "markdown",
   "metadata": {
    "id": "T98Fg9IuD1L9"
   },
   "source": [
    "Creating the features and labels lists for each one of the training, validation and testing data."
   ]
  },
  {
   "cell_type": "code",
   "execution_count": 43,
   "metadata": {},
   "outputs": [
    {
     "name": "stdout",
     "output_type": "stream",
     "text": [
      "[[ 1  1  1 ...  1  1 14]\n",
      " [ 1  1  1 ...  1  1  4]\n",
      " [ 1  1  1 ...  1  1 12]\n",
      " ...\n",
      " [ 1  1  1 ...  1  1  1]\n",
      " [ 0  1  1 ...  1  1  1]\n",
      " [ 1  1  1 ...  1  1 16]]\n",
      "[[ 1  1  1 ...  0  0 17]\n",
      " [ 1  1  1 ...  1  1 12]\n",
      " [ 1  1  1 ...  1  1 12]\n",
      " ...\n",
      " [ 1  1  1 ...  0  0  2]\n",
      " [ 1  1  1 ...  1  1  8]\n",
      " [ 1  1  1 ...  1  1  5]]\n",
      "[[ 1  1  1 ...  1  1 13]\n",
      " [ 1  1  1 ...  1  1  7]\n",
      " [ 1  1  1 ...  1  1  2]\n",
      " ...\n",
      " [ 1  1  1 ...  1  1 17]\n",
      " [ 1  1  1 ...  1  1  6]\n",
      " [ 1  1  0 ...  1  1 19]]\n"
     ]
    }
   ],
   "source": [
    "trainingData = importData(\"./Assig1-Dataset/train_\" + dataset + \".csv\")\n",
    "validationData = importData(\"./Assig1-Dataset/val_\" + dataset + \".csv\")\n",
    "testingData = importData(\"./Assig1-Dataset/test_with_label_\" + dataset + \".csv\")"
   ]
  },
  {
   "cell_type": "code",
   "execution_count": 44,
   "metadata": {},
   "outputs": [],
   "source": [
    "training_features = trainingData[:,0:1023] # size [n_samples, n_features]\n",
    "training_labels = trainingData[:,1024] # size [n_samples]\n",
    "\n",
    "validation_features = validationData[:,0:1023]\n",
    "validation_labels = validationData[:,1024]\n",
    "\n",
    "testing_features = testingData[:,0:1023]\n",
    "testing_labels = testingData[:,1024]\n",
    "\n",
    "#These combined features are used for the Best-Dt and Best-MLP. We concatinated the training and validation dataset\n",
    "#in order to have predefined sets for training and validation of the models.\n",
    "combined_features = np.concatenate([training_features, validation_features])\n",
    "combined_labels = np.concatenate([training_labels, validation_labels])\n",
    "\n",
    "\n",
    "#This test_fold has training data labeled with -1 and validation data labeled with 0.\n",
    "#Anyhting with label -1 will be excluded from the test set.\n",
    "test_fold = [-1 for _ in training_features] + [0 for _ in validation_features]\n",
    "cv = PredefinedSplit(test_fold)"
   ]
  },
  {
   "cell_type": "markdown",
   "metadata": {
    "id": "2q7w4yg7Dvlm"
   },
   "source": [
    "## Part 2.A: Gaussian Naive Bayes\n",
    "\n",
    "A Gaussian Naive Bayes Classifier, with default parameter values."
   ]
  },
  {
   "cell_type": "markdown",
   "metadata": {
    "id": "T98Fg9IuD1L9"
   },
   "source": [
    "Imports and setup."
   ]
  },
  {
   "cell_type": "code",
   "execution_count": 45,
   "metadata": {
    "id": "TVqDAsIPDxyB"
   },
   "outputs": [],
   "source": [
    "from sklearn.naive_bayes import GaussianNB\n",
    "from sklearn.metrics import confusion_matrix, accuracy_score, precision_recall_fscore_support\n",
    "\n",
    "model_name='GNB'\n",
    "\n",
    "clf = GaussianNB()"
   ]
  },
  {
   "cell_type": "markdown",
   "metadata": {},
   "source": [
    "Training and testing."
   ]
  },
  {
   "cell_type": "code",
   "execution_count": 46,
   "metadata": {},
   "outputs": [
    {
     "name": "stderr",
     "output_type": "stream",
     "text": [
      "C:\\ProgramData\\Anaconda3\\lib\\site-packages\\sklearn\\metrics\\_classification.py:1221: UndefinedMetricWarning: Precision and F-score are ill-defined and being set to 0.0 in labels with no predicted samples. Use `zero_division` parameter to control this behavior.\n",
      "  _warn_prf(average, modifier, msg_start, len(result))\n"
     ]
    }
   ],
   "source": [
    "# Train\n",
    "clf.fit(training_features,training_labels)\n",
    "\n",
    "# Test\n",
    "predictedValues = clf.predict(testing_features)\n",
    "analyzeModelAndOutput(testing_labels, predictedValues)"
   ]
  },
  {
   "cell_type": "markdown",
   "metadata": {
    "id": "RrMPhrr9oaBJ"
   },
   "source": [
    "## Part 2.B: Base decision tree\n",
    "\n",
    "A baseline Decision Tree using entropy as decision criterion and using default values values for the rest of the parameters."
   ]
  },
  {
   "cell_type": "markdown",
   "metadata": {
    "id": "qOa9XQZDoaBJ"
   },
   "source": [
    "Imports."
   ]
  },
  {
   "cell_type": "code",
   "execution_count": 47,
   "metadata": {
    "id": "bQBe6msLoaBK"
   },
   "outputs": [],
   "source": [
    "from sklearn import tree\n",
    "from sklearn.tree import DecisionTreeClassifier\n",
    "from sklearn.tree import export_text\n",
    "\n",
    "model_name='Base-DT'"
   ]
  },
  {
   "cell_type": "markdown",
   "metadata": {
    "id": "oCwjTHEWoaBR"
   },
   "source": [
    "Act. Create decision tree with scikit learn, using entropy as the criterion. Pass in trainingData as features and labels. The result is a trained decision tree *clf*."
   ]
  },
  {
   "cell_type": "code",
   "execution_count": 48,
   "metadata": {
    "id": "cnD_mQzdoaBR"
   },
   "outputs": [],
   "source": [
    "decisionTree = tree.DecisionTreeClassifier(criterion=\"entropy\")\n",
    "decisionTree = decisionTree.fit(X=training_features, y=training_labels)"
   ]
  },
  {
   "cell_type": "markdown",
   "metadata": {
    "id": "1h_bPyryoaBV"
   },
   "source": [
    "Analyze. Plot tree and export to text file to see the results."
   ]
  },
  {
   "cell_type": "code",
   "execution_count": 49,
   "metadata": {
    "colab": {
     "base_uri": "https://localhost:8080/",
     "height": 1000
    },
    "id": "DawiOtQToaBV",
    "outputId": "5a99d722-ef7e-4ee3-f0e8-ef862c5c10f4"
   },
   "outputs": [
    {
     "name": "stdout",
     "output_type": "stream",
     "text": [
      "|--- feature_47 <= 0.50\n",
      "|   |--- feature_42 <= 0.50\n",
      "|   |   |--- feature_56 <= 0.50\n",
      "|   |   |   |--- feature_488 <= 0.50\n",
      "|   |   |   |   |--- feature_1006 <= 0.50\n",
      "|   |   |   |   |   |--- feature_759 <= 0.50\n",
      "|   |   |   |   |   |   |--- class: 1\n",
      "|   |   |   |   |   |--- feature_759 >  0.50\n",
      "|   |   |   |   |   |   |--- class: 4\n",
      "|   |   |   |   |--- feature_1006 >  0.50\n",
      "|   |   |   |   |   |--- feature_937 <= 0.50\n",
      "|   |   |   |   |   |   |--- feature_200 <= 0.50\n",
      "|   |   |   |   |   |   |   |--- feature_633 <= 0.50\n",
      "|   |   |   |   |   |   |   |   |--- class: 1\n",
      "|   |   |   |   |   |   |   |--- feature_633 >  0.50\n",
      "|   |   |   |   |   |   |   |   |--- class: 5\n",
      "|   |   |   |   |   |   |--- feature_200 >  0.50\n",
      "|   |   |   |   |   |   |   |--- class: 4\n",
      "|   |   |   |   |   |--- feature_937 >  0.50\n",
      "|   |   |   |   |   |   |--- feature_585 <= 0.50\n",
      "|   |   |   |   |   |   |   |--- class: 15\n",
      "|   |   |   |   |   |   |--- feature_585 >  0.50\n",
      "|   |   |   |   |   |   |   |--- class: 5\n",
      "|   |   |   |--- feature_488 >  0.50\n",
      "|   |   |   |   |--- feature_1015 <= 0.50\n",
      "|   |   |   |   |   |--- feature_422 <= 0.50\n",
      "|   |   |   |   |   |   |--- feature_123 <= 0.50\n",
      "|   |   |   |   |   |   |   |--- class: 3\n",
      "|   |   |   |   |   |   |--- feature_123 >  0.50\n",
      "|   |   |   |   |   |   |   |--- class: 4\n",
      "|   |   |   |   |   |--- feature_422 >  0.50\n",
      "|   |   |   |   |   |   |--- feature_561 <= 0.50\n",
      "|   |   |   |   |   |   |   |--- feature_743 <= 0.50\n",
      "|   |   |   |   |   |   |   |   |--- class: 23\n",
      "|   |   |   |   |   |   |   |--- feature_743 >  0.50\n",
      "|   |   |   |   |   |   |   |   |--- class: 8\n",
      "|   |   |   |   |   |   |--- feature_561 >  0.50\n",
      "|   |   |   |   |   |   |   |--- feature_847 <= 0.50\n",
      "|   |   |   |   |   |   |   |   |--- feature_58 <= 0.50\n",
      "|   |   |   |   |   |   |   |   |   |--- class: 8\n",
      "|   |   |   |   |   |   |   |   |--- feature_58 >  0.50\n",
      "|   |   |   |   |   |   |   |   |   |--- class: 9\n",
      "|   |   |   |   |   |   |   |--- feature_847 >  0.50\n",
      "|   |   |   |   |   |   |   |   |--- feature_41 <= 0.50\n",
      "|   |   |   |   |   |   |   |   |   |--- class: 25\n",
      "|   |   |   |   |   |   |   |   |--- feature_41 >  0.50\n",
      "|   |   |   |   |   |   |   |   |   |--- class: 2\n",
      "|   |   |   |   |--- feature_1015 >  0.50\n",
      "|   |   |   |   |   |--- feature_1003 <= 0.50\n",
      "|   |   |   |   |   |   |--- feature_271 <= 0.50\n",
      "|   |   |   |   |   |   |   |--- feature_38 <= 0.50\n",
      "|   |   |   |   |   |   |   |   |--- feature_61 <= 0.50\n",
      "|   |   |   |   |   |   |   |   |   |--- class: 19\n",
      "|   |   |   |   |   |   |   |   |--- feature_61 >  0.50\n",
      "|   |   |   |   |   |   |   |   |   |--- class: 25\n",
      "|   |   |   |   |   |   |   |--- feature_38 >  0.50\n",
      "|   |   |   |   |   |   |   |   |--- feature_502 <= 0.50\n",
      "|   |   |   |   |   |   |   |   |   |--- class: 1\n",
      "|   |   |   |   |   |   |   |   |--- feature_502 >  0.50\n",
      "|   |   |   |   |   |   |   |   |   |--- class: 8\n",
      "|   |   |   |   |   |   |--- feature_271 >  0.50\n",
      "|   |   |   |   |   |   |   |--- feature_585 <= 0.50\n",
      "|   |   |   |   |   |   |   |   |--- feature_442 <= 0.50\n",
      "|   |   |   |   |   |   |   |   |   |--- class: 1\n",
      "|   |   |   |   |   |   |   |   |--- feature_442 >  0.50\n",
      "|   |   |   |   |   |   |   |   |   |--- class: 5\n",
      "|   |   |   |   |   |   |   |--- feature_585 >  0.50\n",
      "|   |   |   |   |   |   |   |   |--- class: 9\n",
      "|   |   |   |   |   |--- feature_1003 >  0.50\n",
      "|   |   |   |   |   |   |--- feature_967 <= 0.50\n",
      "|   |   |   |   |   |   |   |--- feature_529 <= 0.50\n",
      "|   |   |   |   |   |   |   |   |--- feature_310 <= 0.50\n",
      "|   |   |   |   |   |   |   |   |   |--- class: 25\n",
      "|   |   |   |   |   |   |   |   |--- feature_310 >  0.50\n",
      "|   |   |   |   |   |   |   |   |   |--- class: 4\n",
      "|   |   |   |   |   |   |   |--- feature_529 >  0.50\n",
      "|   |   |   |   |   |   |   |   |--- feature_954 <= 0.50\n",
      "|   |   |   |   |   |   |   |   |   |--- feature_495 <= 0.50\n",
      "|   |   |   |   |   |   |   |   |   |   |--- class: 8\n",
      "|   |   |   |   |   |   |   |   |   |--- feature_495 >  0.50\n",
      "|   |   |   |   |   |   |   |   |   |   |--- class: 14\n",
      "|   |   |   |   |   |   |   |   |--- feature_954 >  0.50\n",
      "|   |   |   |   |   |   |   |   |   |--- class: 5\n",
      "|   |   |   |   |   |   |--- feature_967 >  0.50\n",
      "|   |   |   |   |   |   |   |--- feature_58 <= 0.50\n",
      "|   |   |   |   |   |   |   |   |--- feature_309 <= 0.50\n",
      "|   |   |   |   |   |   |   |   |   |--- feature_213 <= 0.50\n",
      "|   |   |   |   |   |   |   |   |   |   |--- class: 9\n",
      "|   |   |   |   |   |   |   |   |   |--- feature_213 >  0.50\n",
      "|   |   |   |   |   |   |   |   |   |   |--- feature_260 <= 0.50\n",
      "|   |   |   |   |   |   |   |   |   |   |   |--- class: 15\n",
      "|   |   |   |   |   |   |   |   |   |   |--- feature_260 >  0.50\n",
      "|   |   |   |   |   |   |   |   |   |   |   |--- class: 17\n",
      "|   |   |   |   |   |   |   |   |--- feature_309 >  0.50\n",
      "|   |   |   |   |   |   |   |   |   |--- feature_586 <= 0.50\n",
      "|   |   |   |   |   |   |   |   |   |   |--- class: 5\n",
      "|   |   |   |   |   |   |   |   |   |--- feature_586 >  0.50\n",
      "|   |   |   |   |   |   |   |   |   |   |--- feature_471 <= 0.50\n",
      "|   |   |   |   |   |   |   |   |   |   |   |--- truncated branch of depth 2\n",
      "|   |   |   |   |   |   |   |   |   |   |--- feature_471 >  0.50\n",
      "|   |   |   |   |   |   |   |   |   |   |   |--- truncated branch of depth 4\n",
      "|   |   |   |   |   |   |   |--- feature_58 >  0.50\n",
      "|   |   |   |   |   |   |   |   |--- feature_73 <= 0.50\n",
      "|   |   |   |   |   |   |   |   |   |--- feature_41 <= 0.50\n",
      "|   |   |   |   |   |   |   |   |   |   |--- class: 17\n",
      "|   |   |   |   |   |   |   |   |   |--- feature_41 >  0.50\n",
      "|   |   |   |   |   |   |   |   |   |   |--- class: 15\n",
      "|   |   |   |   |   |   |   |   |--- feature_73 >  0.50\n",
      "|   |   |   |   |   |   |   |   |   |--- feature_1006 <= 0.50\n",
      "|   |   |   |   |   |   |   |   |   |   |--- feature_40 <= 0.50\n",
      "|   |   |   |   |   |   |   |   |   |   |   |--- class: 8\n",
      "|   |   |   |   |   |   |   |   |   |   |--- feature_40 >  0.50\n",
      "|   |   |   |   |   |   |   |   |   |   |   |--- class: 9\n",
      "|   |   |   |   |   |   |   |   |   |--- feature_1006 >  0.50\n",
      "|   |   |   |   |   |   |   |   |   |   |--- feature_37 <= 0.50\n",
      "|   |   |   |   |   |   |   |   |   |   |   |--- class: 15\n",
      "|   |   |   |   |   |   |   |   |   |   |--- feature_37 >  0.50\n",
      "|   |   |   |   |   |   |   |   |   |   |   |--- class: 19\n",
      "|   |   |--- feature_56 >  0.50\n",
      "|   |   |   |--- feature_1010 <= 0.50\n",
      "|   |   |   |   |--- feature_881 <= 0.50\n",
      "|   |   |   |   |   |--- feature_339 <= 0.50\n",
      "|   |   |   |   |   |   |--- class: 15\n",
      "|   |   |   |   |   |--- feature_339 >  0.50\n",
      "|   |   |   |   |   |   |--- class: 8\n",
      "|   |   |   |   |--- feature_881 >  0.50\n",
      "|   |   |   |   |   |--- feature_521 <= 0.50\n",
      "|   |   |   |   |   |   |--- feature_424 <= 0.50\n",
      "|   |   |   |   |   |   |   |--- feature_403 <= 0.50\n",
      "|   |   |   |   |   |   |   |   |--- class: 1\n",
      "|   |   |   |   |   |   |   |--- feature_403 >  0.50\n",
      "|   |   |   |   |   |   |   |   |--- feature_85 <= 0.50\n",
      "|   |   |   |   |   |   |   |   |   |--- class: 1\n",
      "|   |   |   |   |   |   |   |   |--- feature_85 >  0.50\n",
      "|   |   |   |   |   |   |   |   |   |--- class: 3\n",
      "|   |   |   |   |   |   |--- feature_424 >  0.50\n",
      "|   |   |   |   |   |   |   |--- feature_985 <= 0.50\n",
      "|   |   |   |   |   |   |   |   |--- feature_664 <= 0.50\n",
      "|   |   |   |   |   |   |   |   |   |--- class: 1\n",
      "|   |   |   |   |   |   |   |   |--- feature_664 >  0.50\n",
      "|   |   |   |   |   |   |   |   |   |--- class: 25\n",
      "|   |   |   |   |   |   |   |--- feature_985 >  0.50\n",
      "|   |   |   |   |   |   |   |   |--- class: 4\n",
      "|   |   |   |   |   |--- feature_521 >  0.50\n",
      "|   |   |   |   |   |   |--- feature_83 <= 0.50\n",
      "|   |   |   |   |   |   |   |--- feature_9 <= 0.50\n",
      "|   |   |   |   |   |   |   |   |--- feature_535 <= 0.50\n",
      "|   |   |   |   |   |   |   |   |   |--- feature_409 <= 0.50\n",
      "|   |   |   |   |   |   |   |   |   |   |--- class: 0\n",
      "|   |   |   |   |   |   |   |   |   |--- feature_409 >  0.50\n",
      "|   |   |   |   |   |   |   |   |   |   |--- class: 1\n",
      "|   |   |   |   |   |   |   |   |--- feature_535 >  0.50\n",
      "|   |   |   |   |   |   |   |   |   |--- class: 3\n",
      "|   |   |   |   |   |   |   |--- feature_9 >  0.50\n",
      "|   |   |   |   |   |   |   |   |--- class: 14\n",
      "|   |   |   |   |   |   |--- feature_83 >  0.50\n",
      "|   |   |   |   |   |   |   |--- feature_979 <= 0.50\n",
      "|   |   |   |   |   |   |   |   |--- feature_932 <= 0.50\n",
      "|   |   |   |   |   |   |   |   |   |--- class: 18\n",
      "|   |   |   |   |   |   |   |   |--- feature_932 >  0.50\n",
      "|   |   |   |   |   |   |   |   |   |--- class: 9\n",
      "|   |   |   |   |   |   |   |--- feature_979 >  0.50\n",
      "|   |   |   |   |   |   |   |   |--- feature_238 <= 0.50\n",
      "|   |   |   |   |   |   |   |   |   |--- feature_134 <= 0.50\n",
      "|   |   |   |   |   |   |   |   |   |   |--- class: 20\n",
      "|   |   |   |   |   |   |   |   |   |--- feature_134 >  0.50\n",
      "|   |   |   |   |   |   |   |   |   |   |--- class: 8\n",
      "|   |   |   |   |   |   |   |   |--- feature_238 >  0.50\n",
      "|   |   |   |   |   |   |   |   |   |--- feature_135 <= 0.50\n",
      "|   |   |   |   |   |   |   |   |   |   |--- feature_742 <= 0.50\n",
      "|   |   |   |   |   |   |   |   |   |   |   |--- class: 3\n",
      "|   |   |   |   |   |   |   |   |   |   |--- feature_742 >  0.50\n",
      "|   |   |   |   |   |   |   |   |   |   |   |--- class: 2\n",
      "|   |   |   |   |   |   |   |   |   |--- feature_135 >  0.50\n",
      "|   |   |   |   |   |   |   |   |   |   |--- feature_120 <= 0.50\n",
      "|   |   |   |   |   |   |   |   |   |   |   |--- class: 16\n",
      "|   |   |   |   |   |   |   |   |   |   |--- feature_120 >  0.50\n",
      "|   |   |   |   |   |   |   |   |   |   |   |--- class: 25\n",
      "|   |   |   |--- feature_1010 >  0.50\n",
      "|   |   |   |   |--- feature_914 <= 0.50\n",
      "|   |   |   |   |   |--- feature_385 <= 0.50\n",
      "|   |   |   |   |   |   |--- feature_819 <= 0.50\n",
      "|   |   |   |   |   |   |   |--- class: 6\n",
      "|   |   |   |   |   |   |--- feature_819 >  0.50\n",
      "|   |   |   |   |   |   |   |--- class: 16\n",
      "|   |   |   |   |   |--- feature_385 >  0.50\n",
      "|   |   |   |   |   |   |--- feature_816 <= 0.50\n",
      "|   |   |   |   |   |   |   |--- feature_948 <= 0.50\n",
      "|   |   |   |   |   |   |   |   |--- feature_1021 <= 0.50\n",
      "|   |   |   |   |   |   |   |   |   |--- class: 25\n",
      "|   |   |   |   |   |   |   |   |--- feature_1021 >  0.50\n",
      "|   |   |   |   |   |   |   |   |   |--- class: 17\n",
      "|   |   |   |   |   |   |   |--- feature_948 >  0.50\n",
      "|   |   |   |   |   |   |   |   |--- feature_795 <= 0.50\n",
      "|   |   |   |   |   |   |   |   |   |--- class: 3\n",
      "|   |   |   |   |   |   |   |   |--- feature_795 >  0.50\n",
      "|   |   |   |   |   |   |   |   |   |--- class: 9\n",
      "|   |   |   |   |   |   |--- feature_816 >  0.50\n",
      "|   |   |   |   |   |   |   |--- feature_464 <= 0.50\n",
      "|   |   |   |   |   |   |   |   |--- feature_853 <= 0.50\n",
      "|   |   |   |   |   |   |   |   |   |--- class: 1\n",
      "|   |   |   |   |   |   |   |   |--- feature_853 >  0.50\n",
      "|   |   |   |   |   |   |   |   |   |--- class: 25\n",
      "|   |   |   |   |   |   |   |--- feature_464 >  0.50\n",
      "|   |   |   |   |   |   |   |   |--- feature_909 <= 0.50\n",
      "|   |   |   |   |   |   |   |   |   |--- feature_83 <= 0.50\n",
      "|   |   |   |   |   |   |   |   |   |   |--- class: 1\n",
      "|   |   |   |   |   |   |   |   |   |--- feature_83 >  0.50\n",
      "|   |   |   |   |   |   |   |   |   |   |--- feature_242 <= 0.50\n",
      "|   |   |   |   |   |   |   |   |   |   |   |--- class: 1\n",
      "|   |   |   |   |   |   |   |   |   |   |--- feature_242 >  0.50\n",
      "|   |   |   |   |   |   |   |   |   |   |   |--- class: 3\n",
      "|   |   |   |   |   |   |   |   |--- feature_909 >  0.50\n",
      "|   |   |   |   |   |   |   |   |   |--- class: 3\n",
      "|   |   |   |   |--- feature_914 >  0.50\n",
      "|   |   |   |   |   |--- feature_248 <= 0.50\n",
      "|   |   |   |   |   |   |--- feature_761 <= 0.50\n",
      "|   |   |   |   |   |   |   |--- feature_512 <= 0.50\n",
      "|   |   |   |   |   |   |   |   |--- class: 16\n",
      "|   |   |   |   |   |   |   |--- feature_512 >  0.50\n",
      "|   |   |   |   |   |   |   |   |--- class: 9\n",
      "|   |   |   |   |   |   |--- feature_761 >  0.50\n",
      "|   |   |   |   |   |   |   |--- feature_750 <= 0.50\n",
      "|   |   |   |   |   |   |   |   |--- feature_496 <= 0.50\n",
      "|   |   |   |   |   |   |   |   |   |--- class: 17\n",
      "|   |   |   |   |   |   |   |   |--- feature_496 >  0.50\n",
      "|   |   |   |   |   |   |   |   |   |--- class: 15\n",
      "|   |   |   |   |   |   |   |--- feature_750 >  0.50\n",
      "|   |   |   |   |   |   |   |   |--- class: 15\n",
      "|   |   |   |   |   |--- feature_248 >  0.50\n",
      "|   |   |   |   |   |   |--- feature_251 <= 0.50\n",
      "|   |   |   |   |   |   |   |--- feature_19 <= 0.50\n",
      "|   |   |   |   |   |   |   |   |--- feature_790 <= 0.50\n",
      "|   |   |   |   |   |   |   |   |   |--- class: 16\n",
      "|   |   |   |   |   |   |   |   |--- feature_790 >  0.50\n",
      "|   |   |   |   |   |   |   |   |   |--- feature_69 <= 0.50\n",
      "|   |   |   |   |   |   |   |   |   |   |--- class: 15\n",
      "|   |   |   |   |   |   |   |   |   |--- feature_69 >  0.50\n",
      "|   |   |   |   |   |   |   |   |   |   |--- class: 14\n",
      "|   |   |   |   |   |   |   |--- feature_19 >  0.50\n",
      "|   |   |   |   |   |   |   |   |--- class: 3\n",
      "|   |   |   |   |   |   |--- feature_251 >  0.50\n",
      "|   |   |   |   |   |   |   |--- feature_1001 <= 0.50\n",
      "|   |   |   |   |   |   |   |   |--- feature_426 <= 0.50\n",
      "|   |   |   |   |   |   |   |   |   |--- feature_854 <= 0.50\n",
      "|   |   |   |   |   |   |   |   |   |   |--- feature_843 <= 0.50\n",
      "|   |   |   |   |   |   |   |   |   |   |   |--- class: 1\n",
      "|   |   |   |   |   |   |   |   |   |   |--- feature_843 >  0.50\n",
      "|   |   |   |   |   |   |   |   |   |   |   |--- class: 17\n",
      "|   |   |   |   |   |   |   |   |   |--- feature_854 >  0.50\n",
      "|   |   |   |   |   |   |   |   |   |   |--- feature_75 <= 0.50\n",
      "|   |   |   |   |   |   |   |   |   |   |   |--- truncated branch of depth 2\n",
      "|   |   |   |   |   |   |   |   |   |   |--- feature_75 >  0.50\n",
      "|   |   |   |   |   |   |   |   |   |   |   |--- class: 5\n",
      "|   |   |   |   |   |   |   |   |--- feature_426 >  0.50\n",
      "|   |   |   |   |   |   |   |   |   |--- feature_103 <= 0.50\n",
      "|   |   |   |   |   |   |   |   |   |   |--- feature_702 <= 0.50\n",
      "|   |   |   |   |   |   |   |   |   |   |   |--- class: 14\n",
      "|   |   |   |   |   |   |   |   |   |   |--- feature_702 >  0.50\n",
      "|   |   |   |   |   |   |   |   |   |   |   |--- truncated branch of depth 2\n",
      "|   |   |   |   |   |   |   |   |   |--- feature_103 >  0.50\n",
      "|   |   |   |   |   |   |   |   |   |   |--- class: 25\n",
      "|   |   |   |   |   |   |   |--- feature_1001 >  0.50\n",
      "|   |   |   |   |   |   |   |   |--- feature_568 <= 0.50\n",
      "|   |   |   |   |   |   |   |   |   |--- feature_978 <= 0.50\n",
      "|   |   |   |   |   |   |   |   |   |   |--- class: 9\n",
      "|   |   |   |   |   |   |   |   |   |--- feature_978 >  0.50\n",
      "|   |   |   |   |   |   |   |   |   |   |--- class: 3\n",
      "|   |   |   |   |   |   |   |   |--- feature_568 >  0.50\n",
      "|   |   |   |   |   |   |   |   |   |--- feature_77 <= 0.50\n",
      "|   |   |   |   |   |   |   |   |   |   |--- feature_399 <= 0.50\n",
      "|   |   |   |   |   |   |   |   |   |   |   |--- class: 17\n",
      "|   |   |   |   |   |   |   |   |   |   |--- feature_399 >  0.50\n",
      "|   |   |   |   |   |   |   |   |   |   |   |--- truncated branch of depth 2\n",
      "|   |   |   |   |   |   |   |   |   |--- feature_77 >  0.50\n",
      "|   |   |   |   |   |   |   |   |   |   |--- feature_55 <= 0.50\n",
      "|   |   |   |   |   |   |   |   |   |   |   |--- class: 5\n",
      "|   |   |   |   |   |   |   |   |   |   |--- feature_55 >  0.50\n",
      "|   |   |   |   |   |   |   |   |   |   |   |--- class: 17\n",
      "|   |--- feature_42 >  0.50\n",
      "|   |   |--- feature_51 <= 0.50\n",
      "|   |   |   |--- feature_1009 <= 0.50\n",
      "|   |   |   |   |--- feature_560 <= 0.50\n",
      "|   |   |   |   |   |--- feature_55 <= 0.50\n",
      "|   |   |   |   |   |   |--- feature_439 <= 0.50\n",
      "|   |   |   |   |   |   |   |--- class: 1\n",
      "|   |   |   |   |   |   |--- feature_439 >  0.50\n",
      "|   |   |   |   |   |   |   |--- class: 15\n",
      "|   |   |   |   |   |--- feature_55 >  0.50\n",
      "|   |   |   |   |   |   |--- class: 8\n",
      "|   |   |   |   |--- feature_560 >  0.50\n",
      "|   |   |   |   |   |--- feature_138 <= 0.50\n",
      "|   |   |   |   |   |   |--- feature_25 <= 0.50\n",
      "|   |   |   |   |   |   |   |--- feature_555 <= 0.50\n",
      "|   |   |   |   |   |   |   |   |--- class: 3\n",
      "|   |   |   |   |   |   |   |--- feature_555 >  0.50\n",
      "|   |   |   |   |   |   |   |   |--- class: 2\n",
      "|   |   |   |   |   |   |--- feature_25 >  0.50\n",
      "|   |   |   |   |   |   |   |--- feature_576 <= 0.50\n",
      "|   |   |   |   |   |   |   |   |--- class: 2\n",
      "|   |   |   |   |   |   |   |--- feature_576 >  0.50\n",
      "|   |   |   |   |   |   |   |   |--- class: 14\n",
      "|   |   |   |   |   |--- feature_138 >  0.50\n",
      "|   |   |   |   |   |   |--- feature_517 <= 0.50\n",
      "|   |   |   |   |   |   |   |--- feature_183 <= 0.50\n",
      "|   |   |   |   |   |   |   |   |--- class: 3\n",
      "|   |   |   |   |   |   |   |--- feature_183 >  0.50\n",
      "|   |   |   |   |   |   |   |   |--- class: 4\n",
      "|   |   |   |   |   |   |--- feature_517 >  0.50\n",
      "|   |   |   |   |   |   |   |--- feature_838 <= 0.50\n",
      "|   |   |   |   |   |   |   |   |--- feature_632 <= 0.50\n",
      "|   |   |   |   |   |   |   |   |   |--- class: 16\n",
      "|   |   |   |   |   |   |   |   |--- feature_632 >  0.50\n",
      "|   |   |   |   |   |   |   |   |   |--- feature_76 <= 0.50\n",
      "|   |   |   |   |   |   |   |   |   |   |--- class: 25\n",
      "|   |   |   |   |   |   |   |   |   |--- feature_76 >  0.50\n",
      "|   |   |   |   |   |   |   |   |   |   |--- class: 14\n",
      "|   |   |   |   |   |   |   |--- feature_838 >  0.50\n",
      "|   |   |   |   |   |   |   |   |--- class: 9\n",
      "|   |   |   |--- feature_1009 >  0.50\n",
      "|   |   |   |   |--- feature_999 <= 0.50\n",
      "|   |   |   |   |   |--- feature_334 <= 0.50\n",
      "|   |   |   |   |   |   |--- class: 1\n",
      "|   |   |   |   |   |--- feature_334 >  0.50\n",
      "|   |   |   |   |   |   |--- feature_1007 <= 0.50\n",
      "|   |   |   |   |   |   |   |--- feature_956 <= 0.50\n",
      "|   |   |   |   |   |   |   |   |--- feature_934 <= 0.50\n",
      "|   |   |   |   |   |   |   |   |   |--- class: 16\n",
      "|   |   |   |   |   |   |   |   |--- feature_934 >  0.50\n",
      "|   |   |   |   |   |   |   |   |   |--- class: 3\n",
      "|   |   |   |   |   |   |   |--- feature_956 >  0.50\n",
      "|   |   |   |   |   |   |   |   |--- class: 14\n",
      "|   |   |   |   |   |   |--- feature_1007 >  0.50\n",
      "|   |   |   |   |   |   |   |--- feature_357 <= 0.50\n",
      "|   |   |   |   |   |   |   |   |--- feature_644 <= 0.50\n",
      "|   |   |   |   |   |   |   |   |   |--- class: 4\n",
      "|   |   |   |   |   |   |   |   |--- feature_644 >  0.50\n",
      "|   |   |   |   |   |   |   |   |   |--- class: 2\n",
      "|   |   |   |   |   |   |   |--- feature_357 >  0.50\n",
      "|   |   |   |   |   |   |   |   |--- class: 17\n",
      "|   |   |   |   |--- feature_999 >  0.50\n",
      "|   |   |   |   |   |--- feature_55 <= 0.50\n",
      "|   |   |   |   |   |   |--- feature_71 <= 0.50\n",
      "|   |   |   |   |   |   |   |--- feature_915 <= 0.50\n",
      "|   |   |   |   |   |   |   |   |--- class: 5\n",
      "|   |   |   |   |   |   |   |--- feature_915 >  0.50\n",
      "|   |   |   |   |   |   |   |   |--- class: 19\n",
      "|   |   |   |   |   |   |--- feature_71 >  0.50\n",
      "|   |   |   |   |   |   |   |--- feature_84 <= 0.50\n",
      "|   |   |   |   |   |   |   |   |--- class: 4\n",
      "|   |   |   |   |   |   |   |--- feature_84 >  0.50\n",
      "|   |   |   |   |   |   |   |   |--- class: 15\n",
      "|   |   |   |   |   |--- feature_55 >  0.50\n",
      "|   |   |   |   |   |   |--- feature_79 <= 0.50\n",
      "|   |   |   |   |   |   |   |--- feature_1001 <= 0.50\n",
      "|   |   |   |   |   |   |   |   |--- feature_1017 <= 0.50\n",
      "|   |   |   |   |   |   |   |   |   |--- class: 14\n",
      "|   |   |   |   |   |   |   |   |--- feature_1017 >  0.50\n",
      "|   |   |   |   |   |   |   |   |   |--- class: 6\n",
      "|   |   |   |   |   |   |   |--- feature_1001 >  0.50\n",
      "|   |   |   |   |   |   |   |   |--- feature_81 <= 0.50\n",
      "|   |   |   |   |   |   |   |   |   |--- class: 0\n",
      "|   |   |   |   |   |   |   |   |--- feature_81 >  0.50\n",
      "|   |   |   |   |   |   |   |   |   |--- feature_1006 <= 0.50\n",
      "|   |   |   |   |   |   |   |   |   |   |--- class: 18\n",
      "|   |   |   |   |   |   |   |   |   |--- feature_1006 >  0.50\n",
      "|   |   |   |   |   |   |   |   |   |   |--- class: 12\n",
      "|   |   |   |   |   |   |--- feature_79 >  0.50\n",
      "|   |   |   |   |   |   |   |--- feature_75 <= 0.50\n",
      "|   |   |   |   |   |   |   |   |--- class: 17\n",
      "|   |   |   |   |   |   |   |--- feature_75 >  0.50\n",
      "|   |   |   |   |   |   |   |   |--- feature_470 <= 0.50\n",
      "|   |   |   |   |   |   |   |   |   |--- feature_815 <= 0.50\n",
      "|   |   |   |   |   |   |   |   |   |   |--- class: 3\n",
      "|   |   |   |   |   |   |   |   |   |--- feature_815 >  0.50\n",
      "|   |   |   |   |   |   |   |   |   |   |--- class: 4\n",
      "|   |   |   |   |   |   |   |   |--- feature_470 >  0.50\n",
      "|   |   |   |   |   |   |   |   |   |--- class: 15\n",
      "|   |   |--- feature_51 >  0.50\n",
      "|   |   |   |--- feature_20 <= 0.50\n",
      "|   |   |   |   |--- feature_501 <= 0.50\n",
      "|   |   |   |   |   |--- feature_61 <= 0.50\n",
      "|   |   |   |   |   |   |--- class: 18\n",
      "|   |   |   |   |   |--- feature_61 >  0.50\n",
      "|   |   |   |   |   |   |--- class: 6\n",
      "|   |   |   |   |--- feature_501 >  0.50\n",
      "|   |   |   |   |   |--- feature_236 <= 0.50\n",
      "|   |   |   |   |   |   |--- feature_361 <= 0.50\n",
      "|   |   |   |   |   |   |   |--- feature_736 <= 0.50\n",
      "|   |   |   |   |   |   |   |   |--- class: 16\n",
      "|   |   |   |   |   |   |   |--- feature_736 >  0.50\n",
      "|   |   |   |   |   |   |   |   |--- class: 14\n",
      "|   |   |   |   |   |   |--- feature_361 >  0.50\n",
      "|   |   |   |   |   |   |   |--- class: 18\n",
      "|   |   |   |   |   |--- feature_236 >  0.50\n",
      "|   |   |   |   |   |   |--- feature_662 <= 0.50\n",
      "|   |   |   |   |   |   |   |--- feature_999 <= 0.50\n",
      "|   |   |   |   |   |   |   |   |--- feature_581 <= 0.50\n",
      "|   |   |   |   |   |   |   |   |   |--- class: 16\n",
      "|   |   |   |   |   |   |   |   |--- feature_581 >  0.50\n",
      "|   |   |   |   |   |   |   |   |   |--- class: 18\n",
      "|   |   |   |   |   |   |   |--- feature_999 >  0.50\n",
      "|   |   |   |   |   |   |   |   |--- class: 6\n",
      "|   |   |   |   |   |   |--- feature_662 >  0.50\n",
      "|   |   |   |   |   |   |   |--- feature_730 <= 0.50\n",
      "|   |   |   |   |   |   |   |   |--- feature_545 <= 0.50\n",
      "|   |   |   |   |   |   |   |   |   |--- class: 16\n",
      "|   |   |   |   |   |   |   |   |--- feature_545 >  0.50\n",
      "|   |   |   |   |   |   |   |   |   |--- class: 6\n",
      "|   |   |   |   |   |   |   |--- feature_730 >  0.50\n",
      "|   |   |   |   |   |   |   |   |--- feature_633 <= 0.50\n",
      "|   |   |   |   |   |   |   |   |   |--- class: 14\n",
      "|   |   |   |   |   |   |   |   |--- feature_633 >  0.50\n",
      "|   |   |   |   |   |   |   |   |   |--- feature_636 <= 0.50\n",
      "|   |   |   |   |   |   |   |   |   |   |--- class: 14\n",
      "|   |   |   |   |   |   |   |   |   |--- feature_636 >  0.50\n",
      "|   |   |   |   |   |   |   |   |   |   |--- class: 2\n",
      "|   |   |   |--- feature_20 >  0.50\n",
      "|   |   |   |   |--- feature_1008 <= 0.50\n",
      "|   |   |   |   |   |--- feature_336 <= 0.50\n",
      "|   |   |   |   |   |   |--- class: 8\n",
      "|   |   |   |   |   |--- feature_336 >  0.50\n",
      "|   |   |   |   |   |   |--- feature_975 <= 0.50\n",
      "|   |   |   |   |   |   |   |--- feature_564 <= 0.50\n",
      "|   |   |   |   |   |   |   |   |--- feature_661 <= 0.50\n",
      "|   |   |   |   |   |   |   |   |   |--- class: 18\n",
      "|   |   |   |   |   |   |   |   |--- feature_661 >  0.50\n",
      "|   |   |   |   |   |   |   |   |   |--- class: 9\n",
      "|   |   |   |   |   |   |   |--- feature_564 >  0.50\n",
      "|   |   |   |   |   |   |   |   |--- feature_416 <= 0.50\n",
      "|   |   |   |   |   |   |   |   |   |--- class: 6\n",
      "|   |   |   |   |   |   |   |   |--- feature_416 >  0.50\n",
      "|   |   |   |   |   |   |   |   |   |--- class: 12\n",
      "|   |   |   |   |   |   |--- feature_975 >  0.50\n",
      "|   |   |   |   |   |   |   |--- class: 16\n",
      "|   |   |   |   |--- feature_1008 >  0.50\n",
      "|   |   |   |   |   |--- feature_547 <= 0.50\n",
      "|   |   |   |   |   |   |--- feature_853 <= 0.50\n",
      "|   |   |   |   |   |   |   |--- class: 22\n",
      "|   |   |   |   |   |   |--- feature_853 >  0.50\n",
      "|   |   |   |   |   |   |   |--- class: 16\n",
      "|   |   |   |   |   |--- feature_547 >  0.50\n",
      "|   |   |   |   |   |   |--- feature_925 <= 0.50\n",
      "|   |   |   |   |   |   |   |--- feature_446 <= 0.50\n",
      "|   |   |   |   |   |   |   |   |--- class: 12\n",
      "|   |   |   |   |   |   |   |--- feature_446 >  0.50\n",
      "|   |   |   |   |   |   |   |   |--- class: 10\n",
      "|   |   |   |   |   |   |--- feature_925 >  0.50\n",
      "|   |   |   |   |   |   |   |--- feature_367 <= 0.50\n",
      "|   |   |   |   |   |   |   |   |--- class: 12\n",
      "|   |   |   |   |   |   |   |--- feature_367 >  0.50\n",
      "|   |   |   |   |   |   |   |   |--- class: 0\n",
      "|--- feature_47 >  0.50\n",
      "|   |--- feature_15 <= 0.50\n",
      "|   |   |--- feature_347 <= 0.50\n",
      "|   |   |   |--- feature_987 <= 0.50\n",
      "|   |   |   |   |--- class: 16\n",
      "|   |   |   |--- feature_987 >  0.50\n",
      "|   |   |   |   |--- feature_941 <= 0.50\n",
      "|   |   |   |   |   |--- class: 16\n",
      "|   |   |   |   |--- feature_941 >  0.50\n",
      "|   |   |   |   |   |--- class: 14\n",
      "|   |   |--- feature_347 >  0.50\n",
      "|   |   |   |--- feature_50 <= 0.50\n",
      "|   |   |   |   |--- feature_489 <= 0.50\n",
      "|   |   |   |   |   |--- class: 18\n",
      "|   |   |   |   |--- feature_489 >  0.50\n",
      "|   |   |   |   |   |--- feature_758 <= 0.50\n",
      "|   |   |   |   |   |   |--- feature_300 <= 0.50\n",
      "|   |   |   |   |   |   |   |--- class: 18\n",
      "|   |   |   |   |   |   |--- feature_300 >  0.50\n",
      "|   |   |   |   |   |   |   |--- class: 16\n",
      "|   |   |   |   |   |--- feature_758 >  0.50\n",
      "|   |   |   |   |   |   |--- feature_1004 <= 0.50\n",
      "|   |   |   |   |   |   |   |--- class: 14\n",
      "|   |   |   |   |   |   |--- feature_1004 >  0.50\n",
      "|   |   |   |   |   |   |   |--- feature_263 <= 0.50\n",
      "|   |   |   |   |   |   |   |   |--- class: 24\n",
      "|   |   |   |   |   |   |   |--- feature_263 >  0.50\n",
      "|   |   |   |   |   |   |   |   |--- class: 16\n",
      "|   |   |   |--- feature_50 >  0.50\n",
      "|   |   |   |   |--- feature_499 <= 0.50\n",
      "|   |   |   |   |   |--- feature_936 <= 0.50\n",
      "|   |   |   |   |   |   |--- feature_948 <= 0.50\n",
      "|   |   |   |   |   |   |   |--- class: 8\n",
      "|   |   |   |   |   |   |--- feature_948 >  0.50\n",
      "|   |   |   |   |   |   |   |--- feature_501 <= 0.50\n",
      "|   |   |   |   |   |   |   |   |--- class: 18\n",
      "|   |   |   |   |   |   |   |--- feature_501 >  0.50\n",
      "|   |   |   |   |   |   |   |   |--- class: 5\n",
      "|   |   |   |   |   |--- feature_936 >  0.50\n",
      "|   |   |   |   |   |   |--- class: 18\n",
      "|   |   |   |   |--- feature_499 >  0.50\n",
      "|   |   |   |   |   |--- feature_667 <= 0.50\n",
      "|   |   |   |   |   |   |--- feature_856 <= 0.50\n",
      "|   |   |   |   |   |   |   |--- feature_545 <= 0.50\n",
      "|   |   |   |   |   |   |   |   |--- class: 16\n",
      "|   |   |   |   |   |   |   |--- feature_545 >  0.50\n",
      "|   |   |   |   |   |   |   |   |--- class: 14\n",
      "|   |   |   |   |   |   |--- feature_856 >  0.50\n",
      "|   |   |   |   |   |   |   |--- feature_361 <= 0.50\n",
      "|   |   |   |   |   |   |   |   |--- class: 18\n",
      "|   |   |   |   |   |   |   |--- feature_361 >  0.50\n",
      "|   |   |   |   |   |   |   |   |--- class: 6\n",
      "|   |   |   |   |   |--- feature_667 >  0.50\n",
      "|   |   |   |   |   |   |--- feature_694 <= 0.50\n",
      "|   |   |   |   |   |   |   |--- feature_756 <= 0.50\n",
      "|   |   |   |   |   |   |   |   |--- class: 6\n",
      "|   |   |   |   |   |   |   |--- feature_756 >  0.50\n",
      "|   |   |   |   |   |   |   |   |--- class: 18\n",
      "|   |   |   |   |   |   |--- feature_694 >  0.50\n",
      "|   |   |   |   |   |   |   |--- feature_529 <= 0.50\n",
      "|   |   |   |   |   |   |   |   |--- feature_786 <= 0.50\n",
      "|   |   |   |   |   |   |   |   |   |--- class: 19\n",
      "|   |   |   |   |   |   |   |   |--- feature_786 >  0.50\n",
      "|   |   |   |   |   |   |   |   |   |--- class: 4\n",
      "|   |   |   |   |   |   |   |--- feature_529 >  0.50\n",
      "|   |   |   |   |   |   |   |   |--- feature_445 <= 0.50\n",
      "|   |   |   |   |   |   |   |   |   |--- feature_551 <= 0.50\n",
      "|   |   |   |   |   |   |   |   |   |   |--- class: 3\n",
      "|   |   |   |   |   |   |   |   |   |--- feature_551 >  0.50\n",
      "|   |   |   |   |   |   |   |   |   |   |--- class: 14\n",
      "|   |   |   |   |   |   |   |   |--- feature_445 >  0.50\n",
      "|   |   |   |   |   |   |   |   |   |--- feature_788 <= 0.50\n",
      "|   |   |   |   |   |   |   |   |   |   |--- feature_872 <= 0.50\n",
      "|   |   |   |   |   |   |   |   |   |   |   |--- class: 6\n",
      "|   |   |   |   |   |   |   |   |   |   |--- feature_872 >  0.50\n",
      "|   |   |   |   |   |   |   |   |   |   |   |--- class: 18\n",
      "|   |   |   |   |   |   |   |   |   |--- feature_788 >  0.50\n",
      "|   |   |   |   |   |   |   |   |   |   |--- feature_569 <= 0.50\n",
      "|   |   |   |   |   |   |   |   |   |   |   |--- truncated branch of depth 2\n",
      "|   |   |   |   |   |   |   |   |   |   |--- feature_569 >  0.50\n",
      "|   |   |   |   |   |   |   |   |   |   |   |--- truncated branch of depth 2\n",
      "|   |--- feature_15 >  0.50\n",
      "|   |   |--- feature_1007 <= 0.50\n",
      "|   |   |   |--- feature_943 <= 0.50\n",
      "|   |   |   |   |--- feature_368 <= 0.50\n",
      "|   |   |   |   |   |--- feature_113 <= 0.50\n",
      "|   |   |   |   |   |   |--- feature_115 <= 0.50\n",
      "|   |   |   |   |   |   |   |--- feature_632 <= 0.50\n",
      "|   |   |   |   |   |   |   |   |--- class: 12\n",
      "|   |   |   |   |   |   |   |--- feature_632 >  0.50\n",
      "|   |   |   |   |   |   |   |   |--- class: 5\n",
      "|   |   |   |   |   |   |--- feature_115 >  0.50\n",
      "|   |   |   |   |   |   |   |--- class: 8\n",
      "|   |   |   |   |   |--- feature_113 >  0.50\n",
      "|   |   |   |   |   |   |--- class: 24\n",
      "|   |   |   |   |--- feature_368 >  0.50\n",
      "|   |   |   |   |   |--- feature_1003 <= 0.50\n",
      "|   |   |   |   |   |   |--- feature_645 <= 0.50\n",
      "|   |   |   |   |   |   |   |--- feature_787 <= 0.50\n",
      "|   |   |   |   |   |   |   |   |--- class: 1\n",
      "|   |   |   |   |   |   |   |--- feature_787 >  0.50\n",
      "|   |   |   |   |   |   |   |   |--- feature_719 <= 0.50\n",
      "|   |   |   |   |   |   |   |   |   |--- class: 22\n",
      "|   |   |   |   |   |   |   |   |--- feature_719 >  0.50\n",
      "|   |   |   |   |   |   |   |   |   |--- class: 11\n",
      "|   |   |   |   |   |   |--- feature_645 >  0.50\n",
      "|   |   |   |   |   |   |   |--- class: 20\n",
      "|   |   |   |   |   |--- feature_1003 >  0.50\n",
      "|   |   |   |   |   |   |--- feature_463 <= 0.50\n",
      "|   |   |   |   |   |   |   |--- feature_108 <= 0.50\n",
      "|   |   |   |   |   |   |   |   |--- class: 13\n",
      "|   |   |   |   |   |   |   |--- feature_108 >  0.50\n",
      "|   |   |   |   |   |   |   |   |--- class: 24\n",
      "|   |   |   |   |   |   |--- feature_463 >  0.50\n",
      "|   |   |   |   |   |   |   |--- feature_537 <= 0.50\n",
      "|   |   |   |   |   |   |   |   |--- feature_409 <= 0.50\n",
      "|   |   |   |   |   |   |   |   |   |--- feature_621 <= 0.50\n",
      "|   |   |   |   |   |   |   |   |   |   |--- class: 13\n",
      "|   |   |   |   |   |   |   |   |   |--- feature_621 >  0.50\n",
      "|   |   |   |   |   |   |   |   |   |   |--- class: 9\n",
      "|   |   |   |   |   |   |   |   |--- feature_409 >  0.50\n",
      "|   |   |   |   |   |   |   |   |   |--- feature_1018 <= 0.50\n",
      "|   |   |   |   |   |   |   |   |   |   |--- class: 20\n",
      "|   |   |   |   |   |   |   |   |   |--- feature_1018 >  0.50\n",
      "|   |   |   |   |   |   |   |   |   |   |--- class: 7\n",
      "|   |   |   |   |   |   |   |--- feature_537 >  0.50\n",
      "|   |   |   |   |   |   |   |   |--- feature_4 <= 0.50\n",
      "|   |   |   |   |   |   |   |   |   |--- feature_850 <= 0.50\n",
      "|   |   |   |   |   |   |   |   |   |   |--- class: 22\n",
      "|   |   |   |   |   |   |   |   |   |--- feature_850 >  0.50\n",
      "|   |   |   |   |   |   |   |   |   |   |--- class: 21\n",
      "|   |   |   |   |   |   |   |   |--- feature_4 >  0.50\n",
      "|   |   |   |   |   |   |   |   |   |--- class: 21\n",
      "|   |   |   |--- feature_943 >  0.50\n",
      "|   |   |   |   |--- feature_1013 <= 0.50\n",
      "|   |   |   |   |   |--- feature_113 <= 0.50\n",
      "|   |   |   |   |   |   |--- feature_227 <= 0.50\n",
      "|   |   |   |   |   |   |   |--- class: 4\n",
      "|   |   |   |   |   |   |--- feature_227 >  0.50\n",
      "|   |   |   |   |   |   |   |--- feature_999 <= 0.50\n",
      "|   |   |   |   |   |   |   |   |--- class: 25\n",
      "|   |   |   |   |   |   |   |--- feature_999 >  0.50\n",
      "|   |   |   |   |   |   |   |   |--- feature_55 <= 0.50\n",
      "|   |   |   |   |   |   |   |   |   |--- class: 6\n",
      "|   |   |   |   |   |   |   |   |--- feature_55 >  0.50\n",
      "|   |   |   |   |   |   |   |   |   |--- class: 8\n",
      "|   |   |   |   |   |--- feature_113 >  0.50\n",
      "|   |   |   |   |   |   |--- feature_1009 <= 0.50\n",
      "|   |   |   |   |   |   |   |--- feature_530 <= 0.50\n",
      "|   |   |   |   |   |   |   |   |--- feature_133 <= 0.50\n",
      "|   |   |   |   |   |   |   |   |   |--- class: 1\n",
      "|   |   |   |   |   |   |   |   |--- feature_133 >  0.50\n",
      "|   |   |   |   |   |   |   |   |   |--- class: 25\n",
      "|   |   |   |   |   |   |   |--- feature_530 >  0.50\n",
      "|   |   |   |   |   |   |   |   |--- feature_116 <= 0.50\n",
      "|   |   |   |   |   |   |   |   |   |--- class: 2\n",
      "|   |   |   |   |   |   |   |   |--- feature_116 >  0.50\n",
      "|   |   |   |   |   |   |   |   |   |--- class: 11\n",
      "|   |   |   |   |   |   |--- feature_1009 >  0.50\n",
      "|   |   |   |   |   |   |   |--- class: 20\n",
      "|   |   |   |   |--- feature_1013 >  0.50\n",
      "|   |   |   |   |   |--- feature_19 <= 0.50\n",
      "|   |   |   |   |   |   |--- feature_267 <= 0.50\n",
      "|   |   |   |   |   |   |   |--- class: 6\n",
      "|   |   |   |   |   |   |--- feature_267 >  0.50\n",
      "|   |   |   |   |   |   |   |--- feature_979 <= 0.50\n",
      "|   |   |   |   |   |   |   |   |--- feature_475 <= 0.50\n",
      "|   |   |   |   |   |   |   |   |   |--- class: 14\n",
      "|   |   |   |   |   |   |   |   |--- feature_475 >  0.50\n",
      "|   |   |   |   |   |   |   |   |   |--- class: 18\n",
      "|   |   |   |   |   |   |   |--- feature_979 >  0.50\n",
      "|   |   |   |   |   |   |   |   |--- feature_855 <= 0.50\n",
      "|   |   |   |   |   |   |   |   |   |--- class: 16\n",
      "|   |   |   |   |   |   |   |   |--- feature_855 >  0.50\n",
      "|   |   |   |   |   |   |   |   |   |--- class: 9\n",
      "|   |   |   |   |   |--- feature_19 >  0.50\n",
      "|   |   |   |   |   |   |--- feature_999 <= 0.50\n",
      "|   |   |   |   |   |   |   |--- class: 11\n",
      "|   |   |   |   |   |   |--- feature_999 >  0.50\n",
      "|   |   |   |   |   |   |   |--- feature_758 <= 0.50\n",
      "|   |   |   |   |   |   |   |   |--- feature_788 <= 0.50\n",
      "|   |   |   |   |   |   |   |   |   |--- feature_375 <= 0.50\n",
      "|   |   |   |   |   |   |   |   |   |   |--- class: 20\n",
      "|   |   |   |   |   |   |   |   |   |--- feature_375 >  0.50\n",
      "|   |   |   |   |   |   |   |   |   |   |--- class: 1\n",
      "|   |   |   |   |   |   |   |   |--- feature_788 >  0.50\n",
      "|   |   |   |   |   |   |   |   |   |--- class: 9\n",
      "|   |   |   |   |   |   |   |--- feature_758 >  0.50\n",
      "|   |   |   |   |   |   |   |   |--- feature_782 <= 0.50\n",
      "|   |   |   |   |   |   |   |   |   |--- feature_10 <= 0.50\n",
      "|   |   |   |   |   |   |   |   |   |   |--- class: 24\n",
      "|   |   |   |   |   |   |   |   |   |--- feature_10 >  0.50\n",
      "|   |   |   |   |   |   |   |   |   |   |--- class: 21\n",
      "|   |   |   |   |   |   |   |   |--- feature_782 >  0.50\n",
      "|   |   |   |   |   |   |   |   |   |--- feature_564 <= 0.50\n",
      "|   |   |   |   |   |   |   |   |   |   |--- feature_554 <= 0.50\n",
      "|   |   |   |   |   |   |   |   |   |   |   |--- class: 20\n",
      "|   |   |   |   |   |   |   |   |   |   |--- feature_554 >  0.50\n",
      "|   |   |   |   |   |   |   |   |   |   |   |--- truncated branch of depth 2\n",
      "|   |   |   |   |   |   |   |   |   |--- feature_564 >  0.50\n",
      "|   |   |   |   |   |   |   |   |   |   |--- class: 20\n",
      "|   |   |--- feature_1007 >  0.50\n",
      "|   |   |   |--- feature_554 <= 0.50\n",
      "|   |   |   |   |--- feature_534 <= 0.50\n",
      "|   |   |   |   |   |--- feature_568 <= 0.50\n",
      "|   |   |   |   |   |   |--- feature_629 <= 0.50\n",
      "|   |   |   |   |   |   |   |--- feature_78 <= 0.50\n",
      "|   |   |   |   |   |   |   |   |--- class: 15\n",
      "|   |   |   |   |   |   |   |--- feature_78 >  0.50\n",
      "|   |   |   |   |   |   |   |   |--- class: 7\n",
      "|   |   |   |   |   |   |--- feature_629 >  0.50\n",
      "|   |   |   |   |   |   |   |--- class: 0\n",
      "|   |   |   |   |   |--- feature_568 >  0.50\n",
      "|   |   |   |   |   |   |--- feature_269 <= 0.50\n",
      "|   |   |   |   |   |   |   |--- feature_242 <= 0.50\n",
      "|   |   |   |   |   |   |   |   |--- class: 12\n",
      "|   |   |   |   |   |   |   |--- feature_242 >  0.50\n",
      "|   |   |   |   |   |   |   |   |--- class: 13\n",
      "|   |   |   |   |   |   |--- feature_269 >  0.50\n",
      "|   |   |   |   |   |   |   |--- feature_750 <= 0.50\n",
      "|   |   |   |   |   |   |   |   |--- class: 0\n",
      "|   |   |   |   |   |   |   |--- feature_750 >  0.50\n",
      "|   |   |   |   |   |   |   |   |--- class: 7\n",
      "|   |   |   |   |--- feature_534 >  0.50\n",
      "|   |   |   |   |   |--- feature_520 <= 0.50\n",
      "|   |   |   |   |   |   |--- feature_739 <= 0.50\n",
      "|   |   |   |   |   |   |   |--- feature_737 <= 0.50\n",
      "|   |   |   |   |   |   |   |   |--- class: 18\n",
      "|   |   |   |   |   |   |   |--- feature_737 >  0.50\n",
      "|   |   |   |   |   |   |   |   |--- feature_182 <= 0.50\n",
      "|   |   |   |   |   |   |   |   |   |--- class: 25\n",
      "|   |   |   |   |   |   |   |   |--- feature_182 >  0.50\n",
      "|   |   |   |   |   |   |   |   |   |--- class: 23\n",
      "|   |   |   |   |   |   |--- feature_739 >  0.50\n",
      "|   |   |   |   |   |   |   |--- feature_184 <= 0.50\n",
      "|   |   |   |   |   |   |   |   |--- feature_454 <= 0.50\n",
      "|   |   |   |   |   |   |   |   |   |--- class: 1\n",
      "|   |   |   |   |   |   |   |   |--- feature_454 >  0.50\n",
      "|   |   |   |   |   |   |   |   |   |--- feature_810 <= 0.50\n",
      "|   |   |   |   |   |   |   |   |   |   |--- class: 15\n",
      "|   |   |   |   |   |   |   |   |   |--- feature_810 >  0.50\n",
      "|   |   |   |   |   |   |   |   |   |   |--- class: 7\n",
      "|   |   |   |   |   |   |   |--- feature_184 >  0.50\n",
      "|   |   |   |   |   |   |   |   |--- feature_500 <= 0.50\n",
      "|   |   |   |   |   |   |   |   |   |--- class: 7\n",
      "|   |   |   |   |   |   |   |   |--- feature_500 >  0.50\n",
      "|   |   |   |   |   |   |   |   |   |--- class: 10\n",
      "|   |   |   |   |   |--- feature_520 >  0.50\n",
      "|   |   |   |   |   |   |--- feature_458 <= 0.50\n",
      "|   |   |   |   |   |   |   |--- feature_308 <= 0.50\n",
      "|   |   |   |   |   |   |   |   |--- feature_747 <= 0.50\n",
      "|   |   |   |   |   |   |   |   |   |--- feature_497 <= 0.50\n",
      "|   |   |   |   |   |   |   |   |   |   |--- class: 21\n",
      "|   |   |   |   |   |   |   |   |   |--- feature_497 >  0.50\n",
      "|   |   |   |   |   |   |   |   |   |   |--- class: 13\n",
      "|   |   |   |   |   |   |   |   |--- feature_747 >  0.50\n",
      "|   |   |   |   |   |   |   |   |   |--- class: 7\n",
      "|   |   |   |   |   |   |   |--- feature_308 >  0.50\n",
      "|   |   |   |   |   |   |   |   |--- feature_978 <= 0.50\n",
      "|   |   |   |   |   |   |   |   |   |--- feature_681 <= 0.50\n",
      "|   |   |   |   |   |   |   |   |   |   |--- class: 11\n",
      "|   |   |   |   |   |   |   |   |   |--- feature_681 >  0.50\n",
      "|   |   |   |   |   |   |   |   |   |   |--- class: 21\n",
      "|   |   |   |   |   |   |   |   |--- feature_978 >  0.50\n",
      "|   |   |   |   |   |   |   |   |   |--- feature_216 <= 0.50\n",
      "|   |   |   |   |   |   |   |   |   |   |--- feature_612 <= 0.50\n",
      "|   |   |   |   |   |   |   |   |   |   |   |--- class: 12\n",
      "|   |   |   |   |   |   |   |   |   |   |--- feature_612 >  0.50\n",
      "|   |   |   |   |   |   |   |   |   |   |   |--- class: 15\n",
      "|   |   |   |   |   |   |   |   |   |--- feature_216 >  0.50\n",
      "|   |   |   |   |   |   |   |   |   |   |--- feature_143 <= 0.50\n",
      "|   |   |   |   |   |   |   |   |   |   |   |--- truncated branch of depth 2\n",
      "|   |   |   |   |   |   |   |   |   |   |--- feature_143 >  0.50\n",
      "|   |   |   |   |   |   |   |   |   |   |   |--- truncated branch of depth 2\n",
      "|   |   |   |   |   |   |--- feature_458 >  0.50\n",
      "|   |   |   |   |   |   |   |--- feature_118 <= 0.50\n",
      "|   |   |   |   |   |   |   |   |--- class: 25\n",
      "|   |   |   |   |   |   |   |--- feature_118 >  0.50\n",
      "|   |   |   |   |   |   |   |   |--- feature_253 <= 0.50\n",
      "|   |   |   |   |   |   |   |   |   |--- class: 22\n",
      "|   |   |   |   |   |   |   |   |--- feature_253 >  0.50\n",
      "|   |   |   |   |   |   |   |   |   |--- feature_88 <= 0.50\n",
      "|   |   |   |   |   |   |   |   |   |   |--- feature_200 <= 0.50\n",
      "|   |   |   |   |   |   |   |   |   |   |   |--- class: 21\n",
      "|   |   |   |   |   |   |   |   |   |   |--- feature_200 >  0.50\n",
      "|   |   |   |   |   |   |   |   |   |   |   |--- class: 7\n",
      "|   |   |   |   |   |   |   |   |   |--- feature_88 >  0.50\n",
      "|   |   |   |   |   |   |   |   |   |   |--- feature_789 <= 0.50\n",
      "|   |   |   |   |   |   |   |   |   |   |   |--- class: 23\n",
      "|   |   |   |   |   |   |   |   |   |   |--- feature_789 >  0.50\n",
      "|   |   |   |   |   |   |   |   |   |   |   |--- truncated branch of depth 2\n",
      "|   |   |   |--- feature_554 >  0.50\n",
      "|   |   |   |   |--- feature_112 <= 0.50\n",
      "|   |   |   |   |   |--- feature_944 <= 0.50\n",
      "|   |   |   |   |   |   |--- feature_82 <= 0.50\n",
      "|   |   |   |   |   |   |   |--- feature_968 <= 0.50\n",
      "|   |   |   |   |   |   |   |   |--- class: 9\n",
      "|   |   |   |   |   |   |   |--- feature_968 >  0.50\n",
      "|   |   |   |   |   |   |   |   |--- class: 14\n",
      "|   |   |   |   |   |   |--- feature_82 >  0.50\n",
      "|   |   |   |   |   |   |   |--- feature_951 <= 0.50\n",
      "|   |   |   |   |   |   |   |   |--- feature_142 <= 0.50\n",
      "|   |   |   |   |   |   |   |   |   |--- class: 25\n",
      "|   |   |   |   |   |   |   |   |--- feature_142 >  0.50\n",
      "|   |   |   |   |   |   |   |   |   |--- feature_938 <= 0.50\n",
      "|   |   |   |   |   |   |   |   |   |   |--- class: 4\n",
      "|   |   |   |   |   |   |   |   |   |--- feature_938 >  0.50\n",
      "|   |   |   |   |   |   |   |   |   |   |--- class: 23\n",
      "|   |   |   |   |   |   |   |--- feature_951 >  0.50\n",
      "|   |   |   |   |   |   |   |   |--- class: 3\n",
      "|   |   |   |   |   |--- feature_944 >  0.50\n",
      "|   |   |   |   |   |   |--- feature_109 <= 0.50\n",
      "|   |   |   |   |   |   |   |--- feature_456 <= 0.50\n",
      "|   |   |   |   |   |   |   |   |--- feature_234 <= 0.50\n",
      "|   |   |   |   |   |   |   |   |   |--- feature_858 <= 0.50\n",
      "|   |   |   |   |   |   |   |   |   |   |--- class: 17\n",
      "|   |   |   |   |   |   |   |   |   |--- feature_858 >  0.50\n",
      "|   |   |   |   |   |   |   |   |   |   |--- class: 2\n",
      "|   |   |   |   |   |   |   |   |--- feature_234 >  0.50\n",
      "|   |   |   |   |   |   |   |   |   |--- class: 5\n",
      "|   |   |   |   |   |   |   |--- feature_456 >  0.50\n",
      "|   |   |   |   |   |   |   |   |--- feature_795 <= 0.50\n",
      "|   |   |   |   |   |   |   |   |   |--- class: 16\n",
      "|   |   |   |   |   |   |   |   |--- feature_795 >  0.50\n",
      "|   |   |   |   |   |   |   |   |   |--- feature_39 <= 0.50\n",
      "|   |   |   |   |   |   |   |   |   |   |--- class: 25\n",
      "|   |   |   |   |   |   |   |   |   |--- feature_39 >  0.50\n",
      "|   |   |   |   |   |   |   |   |   |   |--- class: 19\n",
      "|   |   |   |   |   |   |--- feature_109 >  0.50\n",
      "|   |   |   |   |   |   |   |--- feature_263 <= 0.50\n",
      "|   |   |   |   |   |   |   |   |--- feature_271 <= 0.50\n",
      "|   |   |   |   |   |   |   |   |   |--- feature_385 <= 0.50\n",
      "|   |   |   |   |   |   |   |   |   |   |--- class: 14\n",
      "|   |   |   |   |   |   |   |   |   |--- feature_385 >  0.50\n",
      "|   |   |   |   |   |   |   |   |   |   |--- class: 12\n",
      "|   |   |   |   |   |   |   |   |--- feature_271 >  0.50\n",
      "|   |   |   |   |   |   |   |   |   |--- feature_145 <= 0.50\n",
      "|   |   |   |   |   |   |   |   |   |   |--- class: 3\n",
      "|   |   |   |   |   |   |   |   |   |--- feature_145 >  0.50\n",
      "|   |   |   |   |   |   |   |   |   |   |--- class: 10\n",
      "|   |   |   |   |   |   |   |--- feature_263 >  0.50\n",
      "|   |   |   |   |   |   |   |   |--- feature_501 <= 0.50\n",
      "|   |   |   |   |   |   |   |   |   |--- class: 0\n",
      "|   |   |   |   |   |   |   |   |--- feature_501 >  0.50\n",
      "|   |   |   |   |   |   |   |   |   |--- feature_122 <= 0.50\n",
      "|   |   |   |   |   |   |   |   |   |   |--- class: 19\n",
      "|   |   |   |   |   |   |   |   |   |--- feature_122 >  0.50\n",
      "|   |   |   |   |   |   |   |   |   |   |--- class: 6\n",
      "|   |   |   |   |--- feature_112 >  0.50\n",
      "|   |   |   |   |   |--- feature_496 <= 0.50\n",
      "|   |   |   |   |   |   |--- feature_589 <= 0.50\n",
      "|   |   |   |   |   |   |   |--- feature_615 <= 0.50\n",
      "|   |   |   |   |   |   |   |   |--- class: 22\n",
      "|   |   |   |   |   |   |   |--- feature_615 >  0.50\n",
      "|   |   |   |   |   |   |   |   |--- feature_142 <= 0.50\n",
      "|   |   |   |   |   |   |   |   |   |--- feature_391 <= 0.50\n",
      "|   |   |   |   |   |   |   |   |   |   |--- class: 22\n",
      "|   |   |   |   |   |   |   |   |   |--- feature_391 >  0.50\n",
      "|   |   |   |   |   |   |   |   |   |   |--- class: 5\n",
      "|   |   |   |   |   |   |   |   |--- feature_142 >  0.50\n",
      "|   |   |   |   |   |   |   |   |   |--- feature_550 <= 0.50\n",
      "|   |   |   |   |   |   |   |   |   |   |--- class: 21\n",
      "|   |   |   |   |   |   |   |   |   |--- feature_550 >  0.50\n",
      "|   |   |   |   |   |   |   |   |   |   |--- class: 23\n",
      "|   |   |   |   |   |   |--- feature_589 >  0.50\n",
      "|   |   |   |   |   |   |   |--- feature_492 <= 0.50\n",
      "|   |   |   |   |   |   |   |   |--- feature_626 <= 0.50\n",
      "|   |   |   |   |   |   |   |   |   |--- feature_115 <= 0.50\n",
      "|   |   |   |   |   |   |   |   |   |   |--- class: 23\n",
      "|   |   |   |   |   |   |   |   |   |--- feature_115 >  0.50\n",
      "|   |   |   |   |   |   |   |   |   |   |--- class: 22\n",
      "|   |   |   |   |   |   |   |   |--- feature_626 >  0.50\n",
      "|   |   |   |   |   |   |   |   |   |--- feature_239 <= 0.50\n",
      "|   |   |   |   |   |   |   |   |   |   |--- class: 0\n",
      "|   |   |   |   |   |   |   |   |   |--- feature_239 >  0.50\n",
      "|   |   |   |   |   |   |   |   |   |   |--- class: 7\n",
      "|   |   |   |   |   |   |   |--- feature_492 >  0.50\n",
      "|   |   |   |   |   |   |   |   |--- feature_821 <= 0.50\n",
      "|   |   |   |   |   |   |   |   |   |--- feature_402 <= 0.50\n",
      "|   |   |   |   |   |   |   |   |   |   |--- class: 23\n",
      "|   |   |   |   |   |   |   |   |   |--- feature_402 >  0.50\n",
      "|   |   |   |   |   |   |   |   |   |   |--- feature_841 <= 0.50\n",
      "|   |   |   |   |   |   |   |   |   |   |   |--- truncated branch of depth 3\n",
      "|   |   |   |   |   |   |   |   |   |   |--- feature_841 >  0.50\n",
      "|   |   |   |   |   |   |   |   |   |   |   |--- class: 13\n",
      "|   |   |   |   |   |   |   |   |--- feature_821 >  0.50\n",
      "|   |   |   |   |   |   |   |   |   |--- feature_823 <= 0.50\n",
      "|   |   |   |   |   |   |   |   |   |   |--- feature_686 <= 0.50\n",
      "|   |   |   |   |   |   |   |   |   |   |   |--- class: 22\n",
      "|   |   |   |   |   |   |   |   |   |   |--- feature_686 >  0.50\n",
      "|   |   |   |   |   |   |   |   |   |   |   |--- truncated branch of depth 3\n",
      "|   |   |   |   |   |   |   |   |   |--- feature_823 >  0.50\n",
      "|   |   |   |   |   |   |   |   |   |   |--- feature_367 <= 0.50\n",
      "|   |   |   |   |   |   |   |   |   |   |   |--- truncated branch of depth 3\n",
      "|   |   |   |   |   |   |   |   |   |   |--- feature_367 >  0.50\n",
      "|   |   |   |   |   |   |   |   |   |   |   |--- truncated branch of depth 5\n",
      "|   |   |   |   |   |--- feature_496 >  0.50\n",
      "|   |   |   |   |   |   |--- feature_367 <= 0.50\n",
      "|   |   |   |   |   |   |   |--- feature_281 <= 0.50\n",
      "|   |   |   |   |   |   |   |   |--- class: 12\n",
      "|   |   |   |   |   |   |   |--- feature_281 >  0.50\n",
      "|   |   |   |   |   |   |   |   |--- feature_197 <= 0.50\n",
      "|   |   |   |   |   |   |   |   |   |--- class: 12\n",
      "|   |   |   |   |   |   |   |   |--- feature_197 >  0.50\n",
      "|   |   |   |   |   |   |   |   |   |--- feature_584 <= 0.50\n",
      "|   |   |   |   |   |   |   |   |   |   |--- class: 10\n",
      "|   |   |   |   |   |   |   |   |   |--- feature_584 >  0.50\n",
      "|   |   |   |   |   |   |   |   |   |   |--- feature_429 <= 0.50\n",
      "|   |   |   |   |   |   |   |   |   |   |   |--- truncated branch of depth 3\n",
      "|   |   |   |   |   |   |   |   |   |   |--- feature_429 >  0.50\n",
      "|   |   |   |   |   |   |   |   |   |   |   |--- truncated branch of depth 3\n",
      "|   |   |   |   |   |   |--- feature_367 >  0.50\n",
      "|   |   |   |   |   |   |   |--- feature_970 <= 0.50\n",
      "|   |   |   |   |   |   |   |   |--- feature_842 <= 0.50\n",
      "|   |   |   |   |   |   |   |   |   |--- feature_713 <= 0.50\n",
      "|   |   |   |   |   |   |   |   |   |   |--- class: 21\n",
      "|   |   |   |   |   |   |   |   |   |--- feature_713 >  0.50\n",
      "|   |   |   |   |   |   |   |   |   |   |--- class: 22\n",
      "|   |   |   |   |   |   |   |   |--- feature_842 >  0.50\n",
      "|   |   |   |   |   |   |   |   |   |--- feature_967 <= 0.50\n",
      "|   |   |   |   |   |   |   |   |   |   |--- class: 11\n",
      "|   |   |   |   |   |   |   |   |   |--- feature_967 >  0.50\n",
      "|   |   |   |   |   |   |   |   |   |   |--- feature_62 <= 0.50\n",
      "|   |   |   |   |   |   |   |   |   |   |   |--- class: 22\n",
      "|   |   |   |   |   |   |   |   |   |   |--- feature_62 >  0.50\n",
      "|   |   |   |   |   |   |   |   |   |   |   |--- truncated branch of depth 2\n",
      "|   |   |   |   |   |   |   |--- feature_970 >  0.50\n",
      "|   |   |   |   |   |   |   |   |--- feature_167 <= 0.50\n",
      "|   |   |   |   |   |   |   |   |   |--- feature_521 <= 0.50\n",
      "|   |   |   |   |   |   |   |   |   |   |--- feature_586 <= 0.50\n",
      "|   |   |   |   |   |   |   |   |   |   |   |--- truncated branch of depth 2\n",
      "|   |   |   |   |   |   |   |   |   |   |--- feature_586 >  0.50\n",
      "|   |   |   |   |   |   |   |   |   |   |   |--- truncated branch of depth 2\n",
      "|   |   |   |   |   |   |   |   |   |--- feature_521 >  0.50\n",
      "|   |   |   |   |   |   |   |   |   |   |--- feature_883 <= 0.50\n",
      "|   |   |   |   |   |   |   |   |   |   |   |--- truncated branch of depth 2\n",
      "|   |   |   |   |   |   |   |   |   |   |--- feature_883 >  0.50\n",
      "|   |   |   |   |   |   |   |   |   |   |   |--- truncated branch of depth 5\n",
      "|   |   |   |   |   |   |   |   |--- feature_167 >  0.50\n",
      "|   |   |   |   |   |   |   |   |   |--- feature_559 <= 0.50\n",
      "|   |   |   |   |   |   |   |   |   |   |--- feature_589 <= 0.50\n",
      "|   |   |   |   |   |   |   |   |   |   |   |--- truncated branch of depth 3\n",
      "|   |   |   |   |   |   |   |   |   |   |--- feature_589 >  0.50\n",
      "|   |   |   |   |   |   |   |   |   |   |   |--- truncated branch of depth 3\n",
      "|   |   |   |   |   |   |   |   |   |--- feature_559 >  0.50\n",
      "|   |   |   |   |   |   |   |   |   |   |--- feature_125 <= 0.50\n",
      "|   |   |   |   |   |   |   |   |   |   |   |--- truncated branch of depth 2\n",
      "|   |   |   |   |   |   |   |   |   |   |--- feature_125 >  0.50\n",
      "|   |   |   |   |   |   |   |   |   |   |   |--- truncated branch of depth 9\n",
      "\n"
     ]
    },
    {
     "data": {
      "image/png": "[encoded data removed]",
      "text/plain": [
       "<Figure size 432x288 with 1 Axes>"
      ]
     },
     "metadata": {
      "needs_background": "light"
     },
     "output_type": "display_data"
    }
   ],
   "source": [
    "tree.plot_tree(decisionTree)\n",
    "\n",
    "r = export_text(decisionTree)\n",
    "print(r)"
   ]
  },
  {
   "cell_type": "markdown",
   "metadata": {
    "id": "fDZZ_sZ7oaBY"
   },
   "source": [
    "Validate decision tree using validation data."
   ]
  },
  {
   "cell_type": "code",
   "execution_count": 50,
   "metadata": {
    "colab": {
     "base_uri": "https://localhost:8080/",
     "height": 197
    },
    "id": "NoOIG8ewoaBZ",
    "outputId": "c7c910ff-71af-4e48-a749-87d05e72824e"
   },
   "outputs": [],
   "source": [
    "# Apply decision \"tree on data\n",
    "predictedValues = decisionTree.predict(validation_features)\n",
    "\n",
    "analyzeModelAndOutput(validation_labels, predictedValues)"
   ]
  },
  {
   "cell_type": "markdown",
   "metadata": {},
   "source": [
    "# Part 2.C: Best Decision Tree\n"
   ]
  },
  {
   "cell_type": "markdown",
   "metadata": {},
   "source": [
    "Import and setup the hyper-parameters."
   ]
  },
  {
   "cell_type": "code",
   "execution_count": 51,
   "metadata": {},
   "outputs": [],
   "source": [
    "from sklearn.model_selection import GridSearchCV\n",
    "\n",
    "model_name='Best-DT'\n",
    "\n",
    "# Setup hyper-parameters:\n",
    "param_grid = {\n",
    "    'criterion': ['gini','entropy'],\n",
    "    'max_depth': [10, None],\n",
    "    'min_samples_split': [2,4,8],\n",
    "    'min_impurity_decrease': [0,1,2,4,5,10],\n",
    "    'class_weight': [None,'balanced']\n",
    "}"
   ]
  },
  {
   "cell_type": "markdown",
   "metadata": {},
   "source": [
    "GridSearchCV helps to loop through predefined hyperparameters and fit your estimator (model) on your training set. So, in the end, you can select the best parameters from the listed hyperparameters."
   ]
  },
  {
   "cell_type": "code",
   "execution_count": 52,
   "metadata": {},
   "outputs": [
    {
     "name": "stdout",
     "output_type": "stream",
     "text": [
      "Best parameters set:\n",
      "{'class_weight': None, 'criterion': 'gini', 'max_depth': None, 'min_impurity_decrease': 0, 'min_samples_split': 8}\n"
     ]
    }
   ],
   "source": [
    "decisionTree = GridSearchCV(DecisionTreeClassifier(), param_grid = param_grid, cv=cv)\n",
    "decisionTree.fit(combined_features, combined_labels)\n",
    "\n",
    "print('Best parameters set:')\n",
    "print(decisionTree.best_params_)"
   ]
  },
  {
   "cell_type": "markdown",
   "metadata": {},
   "source": [
    "Testing."
   ]
  },
  {
   "cell_type": "code",
   "execution_count": 53,
   "metadata": {},
   "outputs": [
    {
     "name": "stderr",
     "output_type": "stream",
     "text": [
      "C:\\ProgramData\\Anaconda3\\lib\\site-packages\\sklearn\\metrics\\_classification.py:1221: UndefinedMetricWarning: Precision and F-score are ill-defined and being set to 0.0 in labels with no predicted samples. Use `zero_division` parameter to control this behavior.\n",
      "  _warn_prf(average, modifier, msg_start, len(result))\n"
     ]
    }
   ],
   "source": [
    "predictedValues = decisionTree.predict(testing_features)\n",
    "analyzeModelAndOutput(testing_labels, predictedValues)"
   ]
  },
  {
   "cell_type": "markdown",
   "metadata": {},
   "source": [
    "# Part 2.D: Perceptron\n",
    "Perceptron is a classification algorithm which shares the same underlying implementation with SGDClassifier. In fact, Perceptron() is equivalent to SGDClassifier(loss=\"perceptron\", eta0=1, learning_rate=\"constant\", penalty=None)."
   ]
  },
  {
   "cell_type": "markdown",
   "metadata": {},
   "source": [
    "Import and setup perceptron."
   ]
  },
  {
   "cell_type": "code",
   "execution_count": 54,
   "metadata": {},
   "outputs": [],
   "source": [
    "from sklearn.linear_model import Perceptron\n",
    "from sklearn.metrics import confusion_matrix, accuracy_score, precision_recall_fscore_support\n",
    "\n",
    "model_name='PER'\n",
    "\n",
    "# Setup perceptron\n",
    "perceptron = Perceptron()"
   ]
  },
  {
   "cell_type": "markdown",
   "metadata": {},
   "source": [
    "Training and testing."
   ]
  },
  {
   "cell_type": "code",
   "execution_count": 55,
   "metadata": {},
   "outputs": [],
   "source": [
    "# Train\n",
    "perceptron = perceptron.fit(training_features, training_labels)\n",
    "\n",
    "# Test\n",
    "predictedValues = perceptron.predict(testing_features)\n",
    "analyzeModelAndOutput(testing_labels, predictedValues)"
   ]
  },
  {
   "cell_type": "markdown",
   "metadata": {},
   "source": [
    "# Part 2.E: Base-MLP: (Multi-Layered Perceptron)\n",
    "a baseline Multi-Layered Perceptron with 1 hidden layer of100 neurons, sigmoid/logistic\n",
    "as activation function, stochastic gradient descent, and default values for the rest of the parameters."
   ]
  },
  {
   "cell_type": "markdown",
   "metadata": {
    "id": "n98A5dnroaBc"
   },
   "source": [
    "Import and setup multi-layered perceptron."
   ]
  },
  {
   "cell_type": "code",
   "execution_count": 56,
   "metadata": {
    "id": "YL5kGPsaoxJt"
   },
   "outputs": [],
   "source": [
    "from sklearn.neural_network import MLPClassifier\n",
    "\n",
    "model_name='Base-MLP'\n",
    "\n",
    "# Setup multi-layered perceptron\n",
    "mlp = MLPClassifier(hidden_layer_sizes=(100,), activation='logistic', solver='sgd')"
   ]
  },
  {
   "cell_type": "markdown",
   "metadata": {
    "id": "n98A5dnroaBc"
   },
   "source": [
    "Training and testing."
   ]
  },
  {
   "cell_type": "code",
   "execution_count": 57,
   "metadata": {
    "colab": {
     "base_uri": "https://localhost:8080/",
     "height": 153
    },
    "id": "dEO6yMa9oaBd",
    "outputId": "78bf37dd-6ec9-4071-eade-63ffd43146ef"
   },
   "outputs": [
    {
     "name": "stderr",
     "output_type": "stream",
     "text": [
      "C:\\ProgramData\\Anaconda3\\lib\\site-packages\\sklearn\\neural_network\\_multilayer_perceptron.py:582: ConvergenceWarning: Stochastic Optimizer: Maximum iterations (200) reached and the optimization hasn't converged yet.\n",
      "  warnings.warn(\n",
      "C:\\ProgramData\\Anaconda3\\lib\\site-packages\\sklearn\\metrics\\_classification.py:1221: UndefinedMetricWarning: Precision and F-score are ill-defined and being set to 0.0 in labels with no predicted samples. Use `zero_division` parameter to control this behavior.\n",
      "  _warn_prf(average, modifier, msg_start, len(result))\n"
     ]
    }
   ],
   "source": [
    "# Train\n",
    "mlp = mlp.fit(training_features, training_labels)\n",
    "\n",
    "# Test\n",
    "predictedValues = mlp.predict(testing_features)\n",
    "analyzeModelAndOutput(testing_labels, predictedValues)"
   ]
  },
  {
   "cell_type": "markdown",
   "metadata": {},
   "source": [
    "# Part 2.F: Best-MLP: (Multi-Layered Perceptron)\n",
    "a better performing Multi-Layered Perceptron found by performing grid search to find the\n",
    "best combination of hyper-parameters."
   ]
  },
  {
   "cell_type": "markdown",
   "metadata": {},
   "source": [
    "Setup of hyper-parameters."
   ]
  },
  {
   "cell_type": "code",
   "execution_count": 58,
   "metadata": {},
   "outputs": [],
   "source": [
    "model_name='Best-MLP'\n",
    "\n",
    "param_grid = [{'activation': ['identity', 'logistic', 'tanh', 'relu'],\n",
    "               'solver': ['sgd', 'adam'],\n",
    "               'hidden_layer_sizes': [(100,), (30,50), (10,10,10)]}]"
   ]
  },
  {
   "cell_type": "markdown",
   "metadata": {},
   "source": [
    "Training."
   ]
  },
  {
   "cell_type": "code",
   "execution_count": 59,
   "metadata": {},
   "outputs": [
    {
     "name": "stderr",
     "output_type": "stream",
     "text": [
      "C:\\ProgramData\\Anaconda3\\lib\\site-packages\\sklearn\\neural_network\\_multilayer_perceptron.py:582: ConvergenceWarning: Stochastic Optimizer: Maximum iterations (200) reached and the optimization hasn't converged yet.\n",
      "  warnings.warn(\n",
      "C:\\ProgramData\\Anaconda3\\lib\\site-packages\\sklearn\\neural_network\\_multilayer_perceptron.py:582: ConvergenceWarning: Stochastic Optimizer: Maximum iterations (200) reached and the optimization hasn't converged yet.\n",
      "  warnings.warn(\n",
      "C:\\ProgramData\\Anaconda3\\lib\\site-packages\\sklearn\\neural_network\\_multilayer_perceptron.py:582: ConvergenceWarning: Stochastic Optimizer: Maximum iterations (200) reached and the optimization hasn't converged yet.\n",
      "  warnings.warn(\n",
      "C:\\ProgramData\\Anaconda3\\lib\\site-packages\\sklearn\\neural_network\\_multilayer_perceptron.py:582: ConvergenceWarning: Stochastic Optimizer: Maximum iterations (200) reached and the optimization hasn't converged yet.\n",
      "  warnings.warn(\n",
      "C:\\ProgramData\\Anaconda3\\lib\\site-packages\\sklearn\\neural_network\\_multilayer_perceptron.py:582: ConvergenceWarning: Stochastic Optimizer: Maximum iterations (200) reached and the optimization hasn't converged yet.\n",
      "  warnings.warn(\n",
      "C:\\ProgramData\\Anaconda3\\lib\\site-packages\\sklearn\\neural_network\\_multilayer_perceptron.py:582: ConvergenceWarning: Stochastic Optimizer: Maximum iterations (200) reached and the optimization hasn't converged yet.\n",
      "  warnings.warn(\n",
      "C:\\ProgramData\\Anaconda3\\lib\\site-packages\\sklearn\\neural_network\\_multilayer_perceptron.py:582: ConvergenceWarning: Stochastic Optimizer: Maximum iterations (200) reached and the optimization hasn't converged yet.\n",
      "  warnings.warn(\n",
      "C:\\ProgramData\\Anaconda3\\lib\\site-packages\\sklearn\\neural_network\\_multilayer_perceptron.py:582: ConvergenceWarning: Stochastic Optimizer: Maximum iterations (200) reached and the optimization hasn't converged yet.\n",
      "  warnings.warn(\n",
      "C:\\ProgramData\\Anaconda3\\lib\\site-packages\\sklearn\\neural_network\\_multilayer_perceptron.py:582: ConvergenceWarning: Stochastic Optimizer: Maximum iterations (200) reached and the optimization hasn't converged yet.\n",
      "  warnings.warn(\n",
      "C:\\ProgramData\\Anaconda3\\lib\\site-packages\\sklearn\\neural_network\\_multilayer_perceptron.py:582: ConvergenceWarning: Stochastic Optimizer: Maximum iterations (200) reached and the optimization hasn't converged yet.\n",
      "  warnings.warn(\n",
      "C:\\ProgramData\\Anaconda3\\lib\\site-packages\\sklearn\\neural_network\\_multilayer_perceptron.py:582: ConvergenceWarning: Stochastic Optimizer: Maximum iterations (200) reached and the optimization hasn't converged yet.\n",
      "  warnings.warn(\n",
      "C:\\ProgramData\\Anaconda3\\lib\\site-packages\\sklearn\\neural_network\\_multilayer_perceptron.py:582: ConvergenceWarning: Stochastic Optimizer: Maximum iterations (200) reached and the optimization hasn't converged yet.\n",
      "  warnings.warn(\n",
      "C:\\ProgramData\\Anaconda3\\lib\\site-packages\\sklearn\\neural_network\\_multilayer_perceptron.py:582: ConvergenceWarning: Stochastic Optimizer: Maximum iterations (200) reached and the optimization hasn't converged yet.\n",
      "  warnings.warn(\n",
      "C:\\ProgramData\\Anaconda3\\lib\\site-packages\\sklearn\\neural_network\\_multilayer_perceptron.py:582: ConvergenceWarning: Stochastic Optimizer: Maximum iterations (200) reached and the optimization hasn't converged yet.\n",
      "  warnings.warn(\n",
      "C:\\ProgramData\\Anaconda3\\lib\\site-packages\\sklearn\\neural_network\\_multilayer_perceptron.py:582: ConvergenceWarning: Stochastic Optimizer: Maximum iterations (200) reached and the optimization hasn't converged yet.\n",
      "  warnings.warn(\n",
      "C:\\ProgramData\\Anaconda3\\lib\\site-packages\\sklearn\\neural_network\\_multilayer_perceptron.py:582: ConvergenceWarning: Stochastic Optimizer: Maximum iterations (200) reached and the optimization hasn't converged yet.\n",
      "  warnings.warn(\n",
      "C:\\ProgramData\\Anaconda3\\lib\\site-packages\\sklearn\\neural_network\\_multilayer_perceptron.py:582: ConvergenceWarning: Stochastic Optimizer: Maximum iterations (200) reached and the optimization hasn't converged yet.\n",
      "  warnings.warn(\n",
      "C:\\ProgramData\\Anaconda3\\lib\\site-packages\\sklearn\\neural_network\\_multilayer_perceptron.py:582: ConvergenceWarning: Stochastic Optimizer: Maximum iterations (200) reached and the optimization hasn't converged yet.\n",
      "  warnings.warn(\n",
      "C:\\ProgramData\\Anaconda3\\lib\\site-packages\\sklearn\\neural_network\\_multilayer_perceptron.py:582: ConvergenceWarning: Stochastic Optimizer: Maximum iterations (200) reached and the optimization hasn't converged yet.\n",
      "  warnings.warn(\n",
      "C:\\ProgramData\\Anaconda3\\lib\\site-packages\\sklearn\\neural_network\\_multilayer_perceptron.py:582: ConvergenceWarning: Stochastic Optimizer: Maximum iterations (200) reached and the optimization hasn't converged yet.\n",
      "  warnings.warn(\n",
      "C:\\ProgramData\\Anaconda3\\lib\\site-packages\\sklearn\\neural_network\\_multilayer_perceptron.py:582: ConvergenceWarning: Stochastic Optimizer: Maximum iterations (200) reached and the optimization hasn't converged yet.\n",
      "  warnings.warn(\n"
     ]
    },
    {
     "name": "stdout",
     "output_type": "stream",
     "text": [
      "Best parameters set:\n",
      "{'activation': 'logistic', 'hidden_layer_sizes': (100,), 'solver': 'adam'}\n"
     ]
    },
    {
     "name": "stderr",
     "output_type": "stream",
     "text": [
      "C:\\ProgramData\\Anaconda3\\lib\\site-packages\\sklearn\\neural_network\\_multilayer_perceptron.py:582: ConvergenceWarning: Stochastic Optimizer: Maximum iterations (200) reached and the optimization hasn't converged yet.\n",
      "  warnings.warn(\n"
     ]
    }
   ],
   "source": [
    "bmlp = GridSearchCV(MLPClassifier(), param_grid = param_grid, cv=cv)\n",
    "bmlp.fit(combined_features, combined_labels)\n",
    "\n",
    "print('Best parameters set:')\n",
    "print(bmlp.best_params_)"
   ]
  },
  {
   "cell_type": "markdown",
   "metadata": {},
   "source": [
    "Testing."
   ]
  },
  {
   "cell_type": "code",
   "execution_count": 60,
   "metadata": {},
   "outputs": [],
   "source": [
    "predictedValues = bmlp.predict(testing_features)\n",
    "analyzeModelAndOutput(testing_labels, predictedValues)"
   ]
  },
  {
   "cell_type": "code",
   "execution_count": null,
   "metadata": {},
   "outputs": [],
   "source": []
  },
  {
   "cell_type": "code",
   "execution_count": null,
   "metadata": {},
   "outputs": [],
   "source": []
  },
  {
   "cell_type": "code",
   "execution_count": null,
   "metadata": {},
   "outputs": [],
   "source": []
  },
  {
   "cell_type": "code",
   "execution_count": null,
   "metadata": {},
   "outputs": [],
   "source": []
  }
 ],
 "metadata": {
  "colab": {
   "name": "COMP472_A1.ipynb",
   "provenance": [],
   "toc_visible": true
  },
  "kernelspec": {
   "display_name": "Python 3",
   "language": "python",
   "name": "python3"
  },
  "language_info": {
   "codemirror_mode": {
    "name": "ipython",
    "version": 3
   },
   "file_extension": ".py",
   "mimetype": "text/x-python",
   "name": "python",
   "nbconvert_exporter": "python",
   "pygments_lexer": "ipython3",
   "version": "3.8.3"
  }
 },
 "nbformat": 4,
 "nbformat_minor": 1
}
